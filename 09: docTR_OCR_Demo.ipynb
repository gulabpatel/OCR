{
  "nbformat": 4,
  "nbformat_minor": 0,
  "metadata": {
    "colab": {
      "name": "09: docTR _OCR_Demo.ipynb",
      "provenance": [],
      "collapsed_sections": [],
      "include_colab_link": true
    },
    "kernelspec": {
      "name": "python3",
      "display_name": "Python 3"
    },
    "language_info": {
      "name": "python"
    },
    "widgets": {
      "application/vnd.jupyter.widget-state+json": {
        "0075a56ef2134889a76bfd8831cce335": {
          "model_module": "@jupyter-widgets/controls",
          "model_name": "HBoxModel",
          "model_module_version": "1.5.0",
          "state": {
            "_dom_classes": [],
            "_model_module": "@jupyter-widgets/controls",
            "_model_module_version": "1.5.0",
            "_model_name": "HBoxModel",
            "_view_count": null,
            "_view_module": "@jupyter-widgets/controls",
            "_view_module_version": "1.5.0",
            "_view_name": "HBoxView",
            "box_style": "",
            "children": [
              "IPY_MODEL_72c4e0697845401098522156adac2d8c",
              "IPY_MODEL_168a8f659c624148a4c768f91c339b70",
              "IPY_MODEL_b9030b8cdf1849ebb79c4ffc6b374829"
            ],
            "layout": "IPY_MODEL_cfba2c8b98ca4c13964635a5b1dea3bc"
          }
        },
        "72c4e0697845401098522156adac2d8c": {
          "model_module": "@jupyter-widgets/controls",
          "model_name": "HTMLModel",
          "model_module_version": "1.5.0",
          "state": {
            "_dom_classes": [],
            "_model_module": "@jupyter-widgets/controls",
            "_model_module_version": "1.5.0",
            "_model_name": "HTMLModel",
            "_view_count": null,
            "_view_module": "@jupyter-widgets/controls",
            "_view_module_version": "1.5.0",
            "_view_name": "HTMLView",
            "description": "",
            "description_tooltip": null,
            "layout": "IPY_MODEL_54d9ad0c42db4c90811ab4689043d960",
            "placeholder": "​",
            "style": "IPY_MODEL_0394e53b414e498e93a2170f71f72ef6",
            "value": ""
          }
        },
        "168a8f659c624148a4c768f91c339b70": {
          "model_module": "@jupyter-widgets/controls",
          "model_name": "FloatProgressModel",
          "model_module_version": "1.5.0",
          "state": {
            "_dom_classes": [],
            "_model_module": "@jupyter-widgets/controls",
            "_model_module_version": "1.5.0",
            "_model_name": "FloatProgressModel",
            "_view_count": null,
            "_view_module": "@jupyter-widgets/controls",
            "_view_module_version": "1.5.0",
            "_view_name": "ProgressView",
            "bar_style": "success",
            "description": "",
            "description_tooltip": null,
            "layout": "IPY_MODEL_b8d67fce98f14fb3b747937eb9da47e9",
            "max": 101971449,
            "min": 0,
            "orientation": "horizontal",
            "style": "IPY_MODEL_6a2c5c11973d48d2ae7a72b95b03eacd",
            "value": 101971449
          }
        },
        "b9030b8cdf1849ebb79c4ffc6b374829": {
          "model_module": "@jupyter-widgets/controls",
          "model_name": "HTMLModel",
          "model_module_version": "1.5.0",
          "state": {
            "_dom_classes": [],
            "_model_module": "@jupyter-widgets/controls",
            "_model_module_version": "1.5.0",
            "_model_name": "HTMLModel",
            "_view_count": null,
            "_view_module": "@jupyter-widgets/controls",
            "_view_module_version": "1.5.0",
            "_view_name": "HTMLView",
            "description": "",
            "description_tooltip": null,
            "layout": "IPY_MODEL_04049f4ee1354ae79fdfeddd3069a7aa",
            "placeholder": "​",
            "style": "IPY_MODEL_aa0100a848474bcb958aba5d970a0682",
            "value": " 101971968/? [00:01&lt;00:00, 108091696.76it/s]"
          }
        },
        "cfba2c8b98ca4c13964635a5b1dea3bc": {
          "model_module": "@jupyter-widgets/base",
          "model_name": "LayoutModel",
          "model_module_version": "1.2.0",
          "state": {
            "_model_module": "@jupyter-widgets/base",
            "_model_module_version": "1.2.0",
            "_model_name": "LayoutModel",
            "_view_count": null,
            "_view_module": "@jupyter-widgets/base",
            "_view_module_version": "1.2.0",
            "_view_name": "LayoutView",
            "align_content": null,
            "align_items": null,
            "align_self": null,
            "border": null,
            "bottom": null,
            "display": null,
            "flex": null,
            "flex_flow": null,
            "grid_area": null,
            "grid_auto_columns": null,
            "grid_auto_flow": null,
            "grid_auto_rows": null,
            "grid_column": null,
            "grid_gap": null,
            "grid_row": null,
            "grid_template_areas": null,
            "grid_template_columns": null,
            "grid_template_rows": null,
            "height": null,
            "justify_content": null,
            "justify_items": null,
            "left": null,
            "margin": null,
            "max_height": null,
            "max_width": null,
            "min_height": null,
            "min_width": null,
            "object_fit": null,
            "object_position": null,
            "order": null,
            "overflow": null,
            "overflow_x": null,
            "overflow_y": null,
            "padding": null,
            "right": null,
            "top": null,
            "visibility": null,
            "width": null
          }
        },
        "54d9ad0c42db4c90811ab4689043d960": {
          "model_module": "@jupyter-widgets/base",
          "model_name": "LayoutModel",
          "model_module_version": "1.2.0",
          "state": {
            "_model_module": "@jupyter-widgets/base",
            "_model_module_version": "1.2.0",
            "_model_name": "LayoutModel",
            "_view_count": null,
            "_view_module": "@jupyter-widgets/base",
            "_view_module_version": "1.2.0",
            "_view_name": "LayoutView",
            "align_content": null,
            "align_items": null,
            "align_self": null,
            "border": null,
            "bottom": null,
            "display": null,
            "flex": null,
            "flex_flow": null,
            "grid_area": null,
            "grid_auto_columns": null,
            "grid_auto_flow": null,
            "grid_auto_rows": null,
            "grid_column": null,
            "grid_gap": null,
            "grid_row": null,
            "grid_template_areas": null,
            "grid_template_columns": null,
            "grid_template_rows": null,
            "height": null,
            "justify_content": null,
            "justify_items": null,
            "left": null,
            "margin": null,
            "max_height": null,
            "max_width": null,
            "min_height": null,
            "min_width": null,
            "object_fit": null,
            "object_position": null,
            "order": null,
            "overflow": null,
            "overflow_x": null,
            "overflow_y": null,
            "padding": null,
            "right": null,
            "top": null,
            "visibility": null,
            "width": null
          }
        },
        "0394e53b414e498e93a2170f71f72ef6": {
          "model_module": "@jupyter-widgets/controls",
          "model_name": "DescriptionStyleModel",
          "model_module_version": "1.5.0",
          "state": {
            "_model_module": "@jupyter-widgets/controls",
            "_model_module_version": "1.5.0",
            "_model_name": "DescriptionStyleModel",
            "_view_count": null,
            "_view_module": "@jupyter-widgets/base",
            "_view_module_version": "1.2.0",
            "_view_name": "StyleView",
            "description_width": ""
          }
        },
        "b8d67fce98f14fb3b747937eb9da47e9": {
          "model_module": "@jupyter-widgets/base",
          "model_name": "LayoutModel",
          "model_module_version": "1.2.0",
          "state": {
            "_model_module": "@jupyter-widgets/base",
            "_model_module_version": "1.2.0",
            "_model_name": "LayoutModel",
            "_view_count": null,
            "_view_module": "@jupyter-widgets/base",
            "_view_module_version": "1.2.0",
            "_view_name": "LayoutView",
            "align_content": null,
            "align_items": null,
            "align_self": null,
            "border": null,
            "bottom": null,
            "display": null,
            "flex": null,
            "flex_flow": null,
            "grid_area": null,
            "grid_auto_columns": null,
            "grid_auto_flow": null,
            "grid_auto_rows": null,
            "grid_column": null,
            "grid_gap": null,
            "grid_row": null,
            "grid_template_areas": null,
            "grid_template_columns": null,
            "grid_template_rows": null,
            "height": null,
            "justify_content": null,
            "justify_items": null,
            "left": null,
            "margin": null,
            "max_height": null,
            "max_width": null,
            "min_height": null,
            "min_width": null,
            "object_fit": null,
            "object_position": null,
            "order": null,
            "overflow": null,
            "overflow_x": null,
            "overflow_y": null,
            "padding": null,
            "right": null,
            "top": null,
            "visibility": null,
            "width": null
          }
        },
        "6a2c5c11973d48d2ae7a72b95b03eacd": {
          "model_module": "@jupyter-widgets/controls",
          "model_name": "ProgressStyleModel",
          "model_module_version": "1.5.0",
          "state": {
            "_model_module": "@jupyter-widgets/controls",
            "_model_module_version": "1.5.0",
            "_model_name": "ProgressStyleModel",
            "_view_count": null,
            "_view_module": "@jupyter-widgets/base",
            "_view_module_version": "1.2.0",
            "_view_name": "StyleView",
            "bar_color": null,
            "description_width": ""
          }
        },
        "04049f4ee1354ae79fdfeddd3069a7aa": {
          "model_module": "@jupyter-widgets/base",
          "model_name": "LayoutModel",
          "model_module_version": "1.2.0",
          "state": {
            "_model_module": "@jupyter-widgets/base",
            "_model_module_version": "1.2.0",
            "_model_name": "LayoutModel",
            "_view_count": null,
            "_view_module": "@jupyter-widgets/base",
            "_view_module_version": "1.2.0",
            "_view_name": "LayoutView",
            "align_content": null,
            "align_items": null,
            "align_self": null,
            "border": null,
            "bottom": null,
            "display": null,
            "flex": null,
            "flex_flow": null,
            "grid_area": null,
            "grid_auto_columns": null,
            "grid_auto_flow": null,
            "grid_auto_rows": null,
            "grid_column": null,
            "grid_gap": null,
            "grid_row": null,
            "grid_template_areas": null,
            "grid_template_columns": null,
            "grid_template_rows": null,
            "height": null,
            "justify_content": null,
            "justify_items": null,
            "left": null,
            "margin": null,
            "max_height": null,
            "max_width": null,
            "min_height": null,
            "min_width": null,
            "object_fit": null,
            "object_position": null,
            "order": null,
            "overflow": null,
            "overflow_x": null,
            "overflow_y": null,
            "padding": null,
            "right": null,
            "top": null,
            "visibility": null,
            "width": null
          }
        },
        "aa0100a848474bcb958aba5d970a0682": {
          "model_module": "@jupyter-widgets/controls",
          "model_name": "DescriptionStyleModel",
          "model_module_version": "1.5.0",
          "state": {
            "_model_module": "@jupyter-widgets/controls",
            "_model_module_version": "1.5.0",
            "_model_name": "DescriptionStyleModel",
            "_view_count": null,
            "_view_module": "@jupyter-widgets/base",
            "_view_module_version": "1.2.0",
            "_view_name": "StyleView",
            "description_width": ""
          }
        },
        "c09bf9f9ad584405acce0b82a4be7a02": {
          "model_module": "@jupyter-widgets/controls",
          "model_name": "HBoxModel",
          "model_module_version": "1.5.0",
          "state": {
            "_dom_classes": [],
            "_model_module": "@jupyter-widgets/controls",
            "_model_module_version": "1.5.0",
            "_model_name": "HBoxModel",
            "_view_count": null,
            "_view_module": "@jupyter-widgets/controls",
            "_view_module_version": "1.5.0",
            "_view_name": "HBoxView",
            "box_style": "",
            "children": [
              "IPY_MODEL_cea9d8e7017346e58c668d60181c1ba0",
              "IPY_MODEL_528651482bc0402981f204a2f05ae5b6",
              "IPY_MODEL_ed734a7d73bf4b37aa48d6ddf785be34"
            ],
            "layout": "IPY_MODEL_2bfeafc1b7c6432baa66fdb034be4a7f"
          }
        },
        "cea9d8e7017346e58c668d60181c1ba0": {
          "model_module": "@jupyter-widgets/controls",
          "model_name": "HTMLModel",
          "model_module_version": "1.5.0",
          "state": {
            "_dom_classes": [],
            "_model_module": "@jupyter-widgets/controls",
            "_model_module_version": "1.5.0",
            "_model_name": "HTMLModel",
            "_view_count": null,
            "_view_module": "@jupyter-widgets/controls",
            "_view_module_version": "1.5.0",
            "_view_name": "HTMLView",
            "description": "",
            "description_tooltip": null,
            "layout": "IPY_MODEL_c3d85a6d14004ed69ede5e59ae31c3a6",
            "placeholder": "​",
            "style": "IPY_MODEL_37cda7a45ce24e32bf0c253cf47b4e13",
            "value": ""
          }
        },
        "528651482bc0402981f204a2f05ae5b6": {
          "model_module": "@jupyter-widgets/controls",
          "model_name": "FloatProgressModel",
          "model_module_version": "1.5.0",
          "state": {
            "_dom_classes": [],
            "_model_module": "@jupyter-widgets/controls",
            "_model_module_version": "1.5.0",
            "_model_name": "FloatProgressModel",
            "_view_count": null,
            "_view_module": "@jupyter-widgets/controls",
            "_view_module_version": "1.5.0",
            "_view_name": "ProgressView",
            "bar_style": "success",
            "description": "",
            "description_tooltip": null,
            "layout": "IPY_MODEL_7dfdadb3bfb74215b911ca6199305394",
            "max": 63286381,
            "min": 0,
            "orientation": "horizontal",
            "style": "IPY_MODEL_c3521a2abfa847a9a2c34108a26fce52",
            "value": 63286381
          }
        },
        "ed734a7d73bf4b37aa48d6ddf785be34": {
          "model_module": "@jupyter-widgets/controls",
          "model_name": "HTMLModel",
          "model_module_version": "1.5.0",
          "state": {
            "_dom_classes": [],
            "_model_module": "@jupyter-widgets/controls",
            "_model_module_version": "1.5.0",
            "_model_name": "HTMLModel",
            "_view_count": null,
            "_view_module": "@jupyter-widgets/controls",
            "_view_module_version": "1.5.0",
            "_view_name": "HTMLView",
            "description": "",
            "description_tooltip": null,
            "layout": "IPY_MODEL_3f8bbe838bf54f14bf547b668fb7afe4",
            "placeholder": "​",
            "style": "IPY_MODEL_069f29bc5aca4a688cb27709e136842f",
            "value": " 63287296/? [00:00&lt;00:00, 88864656.65it/s]"
          }
        },
        "2bfeafc1b7c6432baa66fdb034be4a7f": {
          "model_module": "@jupyter-widgets/base",
          "model_name": "LayoutModel",
          "model_module_version": "1.2.0",
          "state": {
            "_model_module": "@jupyter-widgets/base",
            "_model_module_version": "1.2.0",
            "_model_name": "LayoutModel",
            "_view_count": null,
            "_view_module": "@jupyter-widgets/base",
            "_view_module_version": "1.2.0",
            "_view_name": "LayoutView",
            "align_content": null,
            "align_items": null,
            "align_self": null,
            "border": null,
            "bottom": null,
            "display": null,
            "flex": null,
            "flex_flow": null,
            "grid_area": null,
            "grid_auto_columns": null,
            "grid_auto_flow": null,
            "grid_auto_rows": null,
            "grid_column": null,
            "grid_gap": null,
            "grid_row": null,
            "grid_template_areas": null,
            "grid_template_columns": null,
            "grid_template_rows": null,
            "height": null,
            "justify_content": null,
            "justify_items": null,
            "left": null,
            "margin": null,
            "max_height": null,
            "max_width": null,
            "min_height": null,
            "min_width": null,
            "object_fit": null,
            "object_position": null,
            "order": null,
            "overflow": null,
            "overflow_x": null,
            "overflow_y": null,
            "padding": null,
            "right": null,
            "top": null,
            "visibility": null,
            "width": null
          }
        },
        "c3d85a6d14004ed69ede5e59ae31c3a6": {
          "model_module": "@jupyter-widgets/base",
          "model_name": "LayoutModel",
          "model_module_version": "1.2.0",
          "state": {
            "_model_module": "@jupyter-widgets/base",
            "_model_module_version": "1.2.0",
            "_model_name": "LayoutModel",
            "_view_count": null,
            "_view_module": "@jupyter-widgets/base",
            "_view_module_version": "1.2.0",
            "_view_name": "LayoutView",
            "align_content": null,
            "align_items": null,
            "align_self": null,
            "border": null,
            "bottom": null,
            "display": null,
            "flex": null,
            "flex_flow": null,
            "grid_area": null,
            "grid_auto_columns": null,
            "grid_auto_flow": null,
            "grid_auto_rows": null,
            "grid_column": null,
            "grid_gap": null,
            "grid_row": null,
            "grid_template_areas": null,
            "grid_template_columns": null,
            "grid_template_rows": null,
            "height": null,
            "justify_content": null,
            "justify_items": null,
            "left": null,
            "margin": null,
            "max_height": null,
            "max_width": null,
            "min_height": null,
            "min_width": null,
            "object_fit": null,
            "object_position": null,
            "order": null,
            "overflow": null,
            "overflow_x": null,
            "overflow_y": null,
            "padding": null,
            "right": null,
            "top": null,
            "visibility": null,
            "width": null
          }
        },
        "37cda7a45ce24e32bf0c253cf47b4e13": {
          "model_module": "@jupyter-widgets/controls",
          "model_name": "DescriptionStyleModel",
          "model_module_version": "1.5.0",
          "state": {
            "_model_module": "@jupyter-widgets/controls",
            "_model_module_version": "1.5.0",
            "_model_name": "DescriptionStyleModel",
            "_view_count": null,
            "_view_module": "@jupyter-widgets/base",
            "_view_module_version": "1.2.0",
            "_view_name": "StyleView",
            "description_width": ""
          }
        },
        "7dfdadb3bfb74215b911ca6199305394": {
          "model_module": "@jupyter-widgets/base",
          "model_name": "LayoutModel",
          "model_module_version": "1.2.0",
          "state": {
            "_model_module": "@jupyter-widgets/base",
            "_model_module_version": "1.2.0",
            "_model_name": "LayoutModel",
            "_view_count": null,
            "_view_module": "@jupyter-widgets/base",
            "_view_module_version": "1.2.0",
            "_view_name": "LayoutView",
            "align_content": null,
            "align_items": null,
            "align_self": null,
            "border": null,
            "bottom": null,
            "display": null,
            "flex": null,
            "flex_flow": null,
            "grid_area": null,
            "grid_auto_columns": null,
            "grid_auto_flow": null,
            "grid_auto_rows": null,
            "grid_column": null,
            "grid_gap": null,
            "grid_row": null,
            "grid_template_areas": null,
            "grid_template_columns": null,
            "grid_template_rows": null,
            "height": null,
            "justify_content": null,
            "justify_items": null,
            "left": null,
            "margin": null,
            "max_height": null,
            "max_width": null,
            "min_height": null,
            "min_width": null,
            "object_fit": null,
            "object_position": null,
            "order": null,
            "overflow": null,
            "overflow_x": null,
            "overflow_y": null,
            "padding": null,
            "right": null,
            "top": null,
            "visibility": null,
            "width": null
          }
        },
        "c3521a2abfa847a9a2c34108a26fce52": {
          "model_module": "@jupyter-widgets/controls",
          "model_name": "ProgressStyleModel",
          "model_module_version": "1.5.0",
          "state": {
            "_model_module": "@jupyter-widgets/controls",
            "_model_module_version": "1.5.0",
            "_model_name": "ProgressStyleModel",
            "_view_count": null,
            "_view_module": "@jupyter-widgets/base",
            "_view_module_version": "1.2.0",
            "_view_name": "StyleView",
            "bar_color": null,
            "description_width": ""
          }
        },
        "3f8bbe838bf54f14bf547b668fb7afe4": {
          "model_module": "@jupyter-widgets/base",
          "model_name": "LayoutModel",
          "model_module_version": "1.2.0",
          "state": {
            "_model_module": "@jupyter-widgets/base",
            "_model_module_version": "1.2.0",
            "_model_name": "LayoutModel",
            "_view_count": null,
            "_view_module": "@jupyter-widgets/base",
            "_view_module_version": "1.2.0",
            "_view_name": "LayoutView",
            "align_content": null,
            "align_items": null,
            "align_self": null,
            "border": null,
            "bottom": null,
            "display": null,
            "flex": null,
            "flex_flow": null,
            "grid_area": null,
            "grid_auto_columns": null,
            "grid_auto_flow": null,
            "grid_auto_rows": null,
            "grid_column": null,
            "grid_gap": null,
            "grid_row": null,
            "grid_template_areas": null,
            "grid_template_columns": null,
            "grid_template_rows": null,
            "height": null,
            "justify_content": null,
            "justify_items": null,
            "left": null,
            "margin": null,
            "max_height": null,
            "max_width": null,
            "min_height": null,
            "min_width": null,
            "object_fit": null,
            "object_position": null,
            "order": null,
            "overflow": null,
            "overflow_x": null,
            "overflow_y": null,
            "padding": null,
            "right": null,
            "top": null,
            "visibility": null,
            "width": null
          }
        },
        "069f29bc5aca4a688cb27709e136842f": {
          "model_module": "@jupyter-widgets/controls",
          "model_name": "DescriptionStyleModel",
          "model_module_version": "1.5.0",
          "state": {
            "_model_module": "@jupyter-widgets/controls",
            "_model_module_version": "1.5.0",
            "_model_name": "DescriptionStyleModel",
            "_view_count": null,
            "_view_module": "@jupyter-widgets/base",
            "_view_module_version": "1.2.0",
            "_view_name": "StyleView",
            "description_width": ""
          }
        }
      }
    }
  },
  "cells": [
    {
      "cell_type": "markdown",
      "metadata": {
        "id": "view-in-github",
        "colab_type": "text"
      },
      "source": [
        "<a href=\"https://colab.research.google.com/github/gulabpatel/OCR/blob/main/09%3A%20docTR_OCR_Demo.ipynb\" target=\"_parent\"><img src=\"https://colab.research.google.com/assets/colab-badge.svg\" alt=\"Open In Colab\"/></a>"
      ]
    },
    {
      "cell_type": "code",
      "metadata": {
        "id": "43tpfKq1IxQg"
      },
      "source": [
        "# TensorFlow\n",
        "# !pip install python-doctr[tf]\n",
        "# PyTorch\n",
        "!pip install python-doctr[torch]"
      ],
      "execution_count": null,
      "outputs": []
    },
    {
      "cell_type": "markdown",
      "metadata": {
        "id": "zUbhZiRiIxbN"
      },
      "source": [
        "## From source\n",
        "\n",
        "Before being staged for a stable release, we constantly iterate on the community feedback to improve the library. Bug fixes and performance improvements are regularly pushed to the project Git repository. Using this installation method, you will access all the latest features that have not yet made their way to a pypi release!"
      ]
    },
    {
      "cell_type": "code",
      "metadata": {
        "id": "AJZgLM_CIzKf"
      },
      "source": [
        "# Install the most up-to-date version from GitHub\n",
        "# TensorFlow\n",
        "# !pip install -e git+https://github.com/mindee/doctr.git#egg=python-doctr[tf]\n",
        "# PyTorch\n",
        "!pip install -e git+https://github.com/mindee/doctr.git#egg=python-doctr[torch]"
      ],
      "execution_count": null,
      "outputs": []
    },
    {
      "cell_type": "markdown",
      "metadata": {
        "id": "RvJ3PzAQI0zK"
      },
      "source": [
        "Now go to  `Runtime/Restart runtime` for your changes to take effect!"
      ]
    },
    {
      "cell_type": "markdown",
      "metadata": {
        "id": "r2mgRuCaJY4F"
      },
      "source": [
        "# Basic usage\n",
        "\n",
        "We're going to review the main features of docTR 🎁\n",
        "And for you to have a proper overview of its capabilities, we will need some free fonts for a proper output visualization:"
      ]
    },
    {
      "cell_type": "code",
      "metadata": {
        "id": "2Qhrp88TPDZi"
      },
      "source": [
        "# Install some free fonts for result rendering\n",
        "!sudo apt-get install fonts-freefont-ttf -y"
      ],
      "execution_count": null,
      "outputs": []
    },
    {
      "cell_type": "markdown",
      "metadata": {
        "id": "Fe7KuocKSWX9"
      },
      "source": [
        "Let's take care of all the imports directly"
      ]
    },
    {
      "cell_type": "code",
      "metadata": {
        "id": "xSoeo0hRJbnU"
      },
      "source": [
        "%matplotlib inline\n",
        "import os\n",
        "\n",
        "# Let's pick the desired backend\n",
        "# os.environ['USE_TF'] = '1'\n",
        "os.environ['USE_TORCH'] = '1'\n",
        "\n",
        "import matplotlib.pyplot as plt\n",
        "\n",
        "from doctr.io import DocumentFile\n",
        "from doctr.models import ocr_predictor"
      ],
      "execution_count": 4,
      "outputs": []
    },
    {
      "cell_type": "markdown",
      "metadata": {
        "id": "7wwEmHqZSaLF"
      },
      "source": [
        "For the next steps, we will need a proper PDF document that will be used to showcase the library features"
      ]
    },
    {
      "cell_type": "code",
      "metadata": {
        "id": "UIBwFsVuJocy",
        "colab": {
          "base_uri": "https://localhost:8080/"
        },
        "outputId": "29af4540-f08e-468e-8023-e5793e6b0dfb"
      },
      "source": [
        "# Download a sample\n",
        "!wget https://eforms.com/download/2019/01/Cash-Payment-Receipt-Template.pdf\n",
        "# Read the file\n",
        "doc = DocumentFile.from_pdf(\"/content/Cash-Payment-Receipt-Template.pdf\")#.as_images()\n",
        "print(f\"Number of pages: {len(doc)}\")"
      ],
      "execution_count": 7,
      "outputs": [
        {
          "output_type": "stream",
          "name": "stdout",
          "text": [
            "--2022-05-26 09:10:07--  https://eforms.com/download/2019/01/Cash-Payment-Receipt-Template.pdf\n",
            "Resolving eforms.com (eforms.com)... 52.206.2.160\n",
            "Connecting to eforms.com (eforms.com)|52.206.2.160|:443... connected.\n",
            "HTTP request sent, awaiting response... 200 OK\n",
            "Length: 16080 (16K) [application/pdf]\n",
            "Saving to: ‘Cash-Payment-Receipt-Template.pdf.2’\n",
            "\n",
            "\r          Cash-Paym   0%[                    ]       0  --.-KB/s               \rCash-Payment-Receip 100%[===================>]  15.70K  --.-KB/s    in 0s      \n",
            "\n",
            "2022-05-26 09:10:07 (232 MB/s) - ‘Cash-Payment-Receipt-Template.pdf.2’ saved [16080/16080]\n",
            "\n",
            "Number of pages: 1\n"
          ]
        }
      ]
    },
    {
      "cell_type": "markdown",
      "metadata": {
        "id": "cM6PPiWpSmb0"
      },
      "source": [
        "docTR is, under the hood, running Deep Learning models to perform the different tasks it supports. Those models were built and trained with very popular frameworks for maximum compatibility (you will be pleased to know that you can switch from [PyTorch](https://pytorch.org/) to [TensorFlow](https://www.tensorflow.org/) without noticing any difference for you). By default, our high-level API sets the best default values so that you get high performing models without having to know anything about it. All of this is wrapper in a `Predictor` object, which will take care of pre-processing, model inference and post-processing for you ⚡\n",
        "\n",
        "Let's instantiate one!"
      ]
    },
    {
      "cell_type": "code",
      "metadata": {
        "id": "WAoUcVQbKIfT",
        "colab": {
          "base_uri": "https://localhost:8080/",
          "height": 136,
          "referenced_widgets": [
            "0075a56ef2134889a76bfd8831cce335",
            "72c4e0697845401098522156adac2d8c",
            "168a8f659c624148a4c768f91c339b70",
            "b9030b8cdf1849ebb79c4ffc6b374829",
            "cfba2c8b98ca4c13964635a5b1dea3bc",
            "54d9ad0c42db4c90811ab4689043d960",
            "0394e53b414e498e93a2170f71f72ef6",
            "b8d67fce98f14fb3b747937eb9da47e9",
            "6a2c5c11973d48d2ae7a72b95b03eacd",
            "04049f4ee1354ae79fdfeddd3069a7aa",
            "aa0100a848474bcb958aba5d970a0682",
            "c09bf9f9ad584405acce0b82a4be7a02",
            "cea9d8e7017346e58c668d60181c1ba0",
            "528651482bc0402981f204a2f05ae5b6",
            "ed734a7d73bf4b37aa48d6ddf785be34",
            "2bfeafc1b7c6432baa66fdb034be4a7f",
            "c3d85a6d14004ed69ede5e59ae31c3a6",
            "37cda7a45ce24e32bf0c253cf47b4e13",
            "7dfdadb3bfb74215b911ca6199305394",
            "c3521a2abfa847a9a2c34108a26fce52",
            "3f8bbe838bf54f14bf547b668fb7afe4",
            "069f29bc5aca4a688cb27709e136842f"
          ]
        },
        "outputId": "28310606-7695-4c75-daaf-91086cf6c178"
      },
      "source": [
        "# Instantiate a pretrained model\n",
        "predictor = ocr_predictor(pretrained=True)"
      ],
      "execution_count": 8,
      "outputs": [
        {
          "output_type": "stream",
          "name": "stdout",
          "text": [
            "Downloading https://github.com/mindee/doctr/releases/download/v0.3.1/db_resnet50-ac60cadc.pt to /root/.cache/doctr/models/db_resnet50-ac60cadc.pt\n"
          ]
        },
        {
          "output_type": "display_data",
          "data": {
            "text/plain": [
              "  0%|          | 0/101971449 [00:00<?, ?it/s]"
            ],
            "application/vnd.jupyter.widget-view+json": {
              "version_major": 2,
              "version_minor": 0,
              "model_id": "0075a56ef2134889a76bfd8831cce335"
            }
          },
          "metadata": {}
        },
        {
          "output_type": "stream",
          "name": "stdout",
          "text": [
            "Downloading https://github.com/mindee/doctr/releases/download/v0.3.1/crnn_vgg16_bn-9762b0b0.pt to /root/.cache/doctr/models/crnn_vgg16_bn-9762b0b0.pt\n"
          ]
        },
        {
          "output_type": "display_data",
          "data": {
            "text/plain": [
              "  0%|          | 0/63286381 [00:00<?, ?it/s]"
            ],
            "application/vnd.jupyter.widget-view+json": {
              "version_major": 2,
              "version_minor": 0,
              "model_id": "c09bf9f9ad584405acce0b82a4be7a02"
            }
          },
          "metadata": {}
        }
      ]
    },
    {
      "cell_type": "markdown",
      "metadata": {
        "id": "PKKYSs0ET0XQ"
      },
      "source": [
        "By default, PyTorch model provides a nice visual description of a model, which is handy when it comes to debugging or knowing what you just created. We also added a similar feature for TensorFlow backend so that you don't miss on this nice assistance.\n",
        "\n",
        "Let's dive into this model 🕵"
      ]
    },
    {
      "cell_type": "code",
      "metadata": {
        "id": "urR0KyUYOT-B",
        "colab": {
          "base_uri": "https://localhost:8080/"
        },
        "outputId": "13fe76cd-c625-445b-bbc4-d643d4cae03f"
      },
      "source": [
        "# Display the architecture\n",
        "print(predictor)"
      ],
      "execution_count": 9,
      "outputs": [
        {
          "output_type": "stream",
          "name": "stdout",
          "text": [
            "OCRPredictor(\n",
            "  (det_predictor): DetectionPredictor(\n",
            "    (pre_processor): PreProcessor(\n",
            "      (resize): Resize(output_size=(1024, 1024), interpolation='bilinear')\n",
            "      (normalize): Normalize(mean=(0.798, 0.785, 0.772), std=(0.264, 0.2749, 0.287))\n",
            "    )\n",
            "    (model): DBNet(\n",
            "      (feat_extractor): IntermediateLayerGetter(\n",
            "        (conv1): Conv2d(3, 64, kernel_size=(7, 7), stride=(2, 2), padding=(3, 3), bias=False)\n",
            "        (bn1): BatchNorm2d(64, eps=1e-05, momentum=0.1, affine=True, track_running_stats=True)\n",
            "        (relu): ReLU(inplace=True)\n",
            "        (maxpool): MaxPool2d(kernel_size=3, stride=2, padding=1, dilation=1, ceil_mode=False)\n",
            "        (layer1): Sequential(\n",
            "          (0): Bottleneck(\n",
            "            (conv1): Conv2d(64, 64, kernel_size=(1, 1), stride=(1, 1), bias=False)\n",
            "            (bn1): BatchNorm2d(64, eps=1e-05, momentum=0.1, affine=True, track_running_stats=True)\n",
            "            (conv2): Conv2d(64, 64, kernel_size=(3, 3), stride=(1, 1), padding=(1, 1), bias=False)\n",
            "            (bn2): BatchNorm2d(64, eps=1e-05, momentum=0.1, affine=True, track_running_stats=True)\n",
            "            (conv3): Conv2d(64, 256, kernel_size=(1, 1), stride=(1, 1), bias=False)\n",
            "            (bn3): BatchNorm2d(256, eps=1e-05, momentum=0.1, affine=True, track_running_stats=True)\n",
            "            (relu): ReLU(inplace=True)\n",
            "            (downsample): Sequential(\n",
            "              (0): Conv2d(64, 256, kernel_size=(1, 1), stride=(1, 1), bias=False)\n",
            "              (1): BatchNorm2d(256, eps=1e-05, momentum=0.1, affine=True, track_running_stats=True)\n",
            "            )\n",
            "          )\n",
            "          (1): Bottleneck(\n",
            "            (conv1): Conv2d(256, 64, kernel_size=(1, 1), stride=(1, 1), bias=False)\n",
            "            (bn1): BatchNorm2d(64, eps=1e-05, momentum=0.1, affine=True, track_running_stats=True)\n",
            "            (conv2): Conv2d(64, 64, kernel_size=(3, 3), stride=(1, 1), padding=(1, 1), bias=False)\n",
            "            (bn2): BatchNorm2d(64, eps=1e-05, momentum=0.1, affine=True, track_running_stats=True)\n",
            "            (conv3): Conv2d(64, 256, kernel_size=(1, 1), stride=(1, 1), bias=False)\n",
            "            (bn3): BatchNorm2d(256, eps=1e-05, momentum=0.1, affine=True, track_running_stats=True)\n",
            "            (relu): ReLU(inplace=True)\n",
            "          )\n",
            "          (2): Bottleneck(\n",
            "            (conv1): Conv2d(256, 64, kernel_size=(1, 1), stride=(1, 1), bias=False)\n",
            "            (bn1): BatchNorm2d(64, eps=1e-05, momentum=0.1, affine=True, track_running_stats=True)\n",
            "            (conv2): Conv2d(64, 64, kernel_size=(3, 3), stride=(1, 1), padding=(1, 1), bias=False)\n",
            "            (bn2): BatchNorm2d(64, eps=1e-05, momentum=0.1, affine=True, track_running_stats=True)\n",
            "            (conv3): Conv2d(64, 256, kernel_size=(1, 1), stride=(1, 1), bias=False)\n",
            "            (bn3): BatchNorm2d(256, eps=1e-05, momentum=0.1, affine=True, track_running_stats=True)\n",
            "            (relu): ReLU(inplace=True)\n",
            "          )\n",
            "        )\n",
            "        (layer2): Sequential(\n",
            "          (0): Bottleneck(\n",
            "            (conv1): Conv2d(256, 128, kernel_size=(1, 1), stride=(1, 1), bias=False)\n",
            "            (bn1): BatchNorm2d(128, eps=1e-05, momentum=0.1, affine=True, track_running_stats=True)\n",
            "            (conv2): Conv2d(128, 128, kernel_size=(3, 3), stride=(2, 2), padding=(1, 1), bias=False)\n",
            "            (bn2): BatchNorm2d(128, eps=1e-05, momentum=0.1, affine=True, track_running_stats=True)\n",
            "            (conv3): Conv2d(128, 512, kernel_size=(1, 1), stride=(1, 1), bias=False)\n",
            "            (bn3): BatchNorm2d(512, eps=1e-05, momentum=0.1, affine=True, track_running_stats=True)\n",
            "            (relu): ReLU(inplace=True)\n",
            "            (downsample): Sequential(\n",
            "              (0): Conv2d(256, 512, kernel_size=(1, 1), stride=(2, 2), bias=False)\n",
            "              (1): BatchNorm2d(512, eps=1e-05, momentum=0.1, affine=True, track_running_stats=True)\n",
            "            )\n",
            "          )\n",
            "          (1): Bottleneck(\n",
            "            (conv1): Conv2d(512, 128, kernel_size=(1, 1), stride=(1, 1), bias=False)\n",
            "            (bn1): BatchNorm2d(128, eps=1e-05, momentum=0.1, affine=True, track_running_stats=True)\n",
            "            (conv2): Conv2d(128, 128, kernel_size=(3, 3), stride=(1, 1), padding=(1, 1), bias=False)\n",
            "            (bn2): BatchNorm2d(128, eps=1e-05, momentum=0.1, affine=True, track_running_stats=True)\n",
            "            (conv3): Conv2d(128, 512, kernel_size=(1, 1), stride=(1, 1), bias=False)\n",
            "            (bn3): BatchNorm2d(512, eps=1e-05, momentum=0.1, affine=True, track_running_stats=True)\n",
            "            (relu): ReLU(inplace=True)\n",
            "          )\n",
            "          (2): Bottleneck(\n",
            "            (conv1): Conv2d(512, 128, kernel_size=(1, 1), stride=(1, 1), bias=False)\n",
            "            (bn1): BatchNorm2d(128, eps=1e-05, momentum=0.1, affine=True, track_running_stats=True)\n",
            "            (conv2): Conv2d(128, 128, kernel_size=(3, 3), stride=(1, 1), padding=(1, 1), bias=False)\n",
            "            (bn2): BatchNorm2d(128, eps=1e-05, momentum=0.1, affine=True, track_running_stats=True)\n",
            "            (conv3): Conv2d(128, 512, kernel_size=(1, 1), stride=(1, 1), bias=False)\n",
            "            (bn3): BatchNorm2d(512, eps=1e-05, momentum=0.1, affine=True, track_running_stats=True)\n",
            "            (relu): ReLU(inplace=True)\n",
            "          )\n",
            "          (3): Bottleneck(\n",
            "            (conv1): Conv2d(512, 128, kernel_size=(1, 1), stride=(1, 1), bias=False)\n",
            "            (bn1): BatchNorm2d(128, eps=1e-05, momentum=0.1, affine=True, track_running_stats=True)\n",
            "            (conv2): Conv2d(128, 128, kernel_size=(3, 3), stride=(1, 1), padding=(1, 1), bias=False)\n",
            "            (bn2): BatchNorm2d(128, eps=1e-05, momentum=0.1, affine=True, track_running_stats=True)\n",
            "            (conv3): Conv2d(128, 512, kernel_size=(1, 1), stride=(1, 1), bias=False)\n",
            "            (bn3): BatchNorm2d(512, eps=1e-05, momentum=0.1, affine=True, track_running_stats=True)\n",
            "            (relu): ReLU(inplace=True)\n",
            "          )\n",
            "        )\n",
            "        (layer3): Sequential(\n",
            "          (0): Bottleneck(\n",
            "            (conv1): Conv2d(512, 256, kernel_size=(1, 1), stride=(1, 1), bias=False)\n",
            "            (bn1): BatchNorm2d(256, eps=1e-05, momentum=0.1, affine=True, track_running_stats=True)\n",
            "            (conv2): Conv2d(256, 256, kernel_size=(3, 3), stride=(2, 2), padding=(1, 1), bias=False)\n",
            "            (bn2): BatchNorm2d(256, eps=1e-05, momentum=0.1, affine=True, track_running_stats=True)\n",
            "            (conv3): Conv2d(256, 1024, kernel_size=(1, 1), stride=(1, 1), bias=False)\n",
            "            (bn3): BatchNorm2d(1024, eps=1e-05, momentum=0.1, affine=True, track_running_stats=True)\n",
            "            (relu): ReLU(inplace=True)\n",
            "            (downsample): Sequential(\n",
            "              (0): Conv2d(512, 1024, kernel_size=(1, 1), stride=(2, 2), bias=False)\n",
            "              (1): BatchNorm2d(1024, eps=1e-05, momentum=0.1, affine=True, track_running_stats=True)\n",
            "            )\n",
            "          )\n",
            "          (1): Bottleneck(\n",
            "            (conv1): Conv2d(1024, 256, kernel_size=(1, 1), stride=(1, 1), bias=False)\n",
            "            (bn1): BatchNorm2d(256, eps=1e-05, momentum=0.1, affine=True, track_running_stats=True)\n",
            "            (conv2): Conv2d(256, 256, kernel_size=(3, 3), stride=(1, 1), padding=(1, 1), bias=False)\n",
            "            (bn2): BatchNorm2d(256, eps=1e-05, momentum=0.1, affine=True, track_running_stats=True)\n",
            "            (conv3): Conv2d(256, 1024, kernel_size=(1, 1), stride=(1, 1), bias=False)\n",
            "            (bn3): BatchNorm2d(1024, eps=1e-05, momentum=0.1, affine=True, track_running_stats=True)\n",
            "            (relu): ReLU(inplace=True)\n",
            "          )\n",
            "          (2): Bottleneck(\n",
            "            (conv1): Conv2d(1024, 256, kernel_size=(1, 1), stride=(1, 1), bias=False)\n",
            "            (bn1): BatchNorm2d(256, eps=1e-05, momentum=0.1, affine=True, track_running_stats=True)\n",
            "            (conv2): Conv2d(256, 256, kernel_size=(3, 3), stride=(1, 1), padding=(1, 1), bias=False)\n",
            "            (bn2): BatchNorm2d(256, eps=1e-05, momentum=0.1, affine=True, track_running_stats=True)\n",
            "            (conv3): Conv2d(256, 1024, kernel_size=(1, 1), stride=(1, 1), bias=False)\n",
            "            (bn3): BatchNorm2d(1024, eps=1e-05, momentum=0.1, affine=True, track_running_stats=True)\n",
            "            (relu): ReLU(inplace=True)\n",
            "          )\n",
            "          (3): Bottleneck(\n",
            "            (conv1): Conv2d(1024, 256, kernel_size=(1, 1), stride=(1, 1), bias=False)\n",
            "            (bn1): BatchNorm2d(256, eps=1e-05, momentum=0.1, affine=True, track_running_stats=True)\n",
            "            (conv2): Conv2d(256, 256, kernel_size=(3, 3), stride=(1, 1), padding=(1, 1), bias=False)\n",
            "            (bn2): BatchNorm2d(256, eps=1e-05, momentum=0.1, affine=True, track_running_stats=True)\n",
            "            (conv3): Conv2d(256, 1024, kernel_size=(1, 1), stride=(1, 1), bias=False)\n",
            "            (bn3): BatchNorm2d(1024, eps=1e-05, momentum=0.1, affine=True, track_running_stats=True)\n",
            "            (relu): ReLU(inplace=True)\n",
            "          )\n",
            "          (4): Bottleneck(\n",
            "            (conv1): Conv2d(1024, 256, kernel_size=(1, 1), stride=(1, 1), bias=False)\n",
            "            (bn1): BatchNorm2d(256, eps=1e-05, momentum=0.1, affine=True, track_running_stats=True)\n",
            "            (conv2): Conv2d(256, 256, kernel_size=(3, 3), stride=(1, 1), padding=(1, 1), bias=False)\n",
            "            (bn2): BatchNorm2d(256, eps=1e-05, momentum=0.1, affine=True, track_running_stats=True)\n",
            "            (conv3): Conv2d(256, 1024, kernel_size=(1, 1), stride=(1, 1), bias=False)\n",
            "            (bn3): BatchNorm2d(1024, eps=1e-05, momentum=0.1, affine=True, track_running_stats=True)\n",
            "            (relu): ReLU(inplace=True)\n",
            "          )\n",
            "          (5): Bottleneck(\n",
            "            (conv1): Conv2d(1024, 256, kernel_size=(1, 1), stride=(1, 1), bias=False)\n",
            "            (bn1): BatchNorm2d(256, eps=1e-05, momentum=0.1, affine=True, track_running_stats=True)\n",
            "            (conv2): Conv2d(256, 256, kernel_size=(3, 3), stride=(1, 1), padding=(1, 1), bias=False)\n",
            "            (bn2): BatchNorm2d(256, eps=1e-05, momentum=0.1, affine=True, track_running_stats=True)\n",
            "            (conv3): Conv2d(256, 1024, kernel_size=(1, 1), stride=(1, 1), bias=False)\n",
            "            (bn3): BatchNorm2d(1024, eps=1e-05, momentum=0.1, affine=True, track_running_stats=True)\n",
            "            (relu): ReLU(inplace=True)\n",
            "          )\n",
            "        )\n",
            "        (layer4): Sequential(\n",
            "          (0): Bottleneck(\n",
            "            (conv1): Conv2d(1024, 512, kernel_size=(1, 1), stride=(1, 1), bias=False)\n",
            "            (bn1): BatchNorm2d(512, eps=1e-05, momentum=0.1, affine=True, track_running_stats=True)\n",
            "            (conv2): Conv2d(512, 512, kernel_size=(3, 3), stride=(2, 2), padding=(1, 1), bias=False)\n",
            "            (bn2): BatchNorm2d(512, eps=1e-05, momentum=0.1, affine=True, track_running_stats=True)\n",
            "            (conv3): Conv2d(512, 2048, kernel_size=(1, 1), stride=(1, 1), bias=False)\n",
            "            (bn3): BatchNorm2d(2048, eps=1e-05, momentum=0.1, affine=True, track_running_stats=True)\n",
            "            (relu): ReLU(inplace=True)\n",
            "            (downsample): Sequential(\n",
            "              (0): Conv2d(1024, 2048, kernel_size=(1, 1), stride=(2, 2), bias=False)\n",
            "              (1): BatchNorm2d(2048, eps=1e-05, momentum=0.1, affine=True, track_running_stats=True)\n",
            "            )\n",
            "          )\n",
            "          (1): Bottleneck(\n",
            "            (conv1): Conv2d(2048, 512, kernel_size=(1, 1), stride=(1, 1), bias=False)\n",
            "            (bn1): BatchNorm2d(512, eps=1e-05, momentum=0.1, affine=True, track_running_stats=True)\n",
            "            (conv2): Conv2d(512, 512, kernel_size=(3, 3), stride=(1, 1), padding=(1, 1), bias=False)\n",
            "            (bn2): BatchNorm2d(512, eps=1e-05, momentum=0.1, affine=True, track_running_stats=True)\n",
            "            (conv3): Conv2d(512, 2048, kernel_size=(1, 1), stride=(1, 1), bias=False)\n",
            "            (bn3): BatchNorm2d(2048, eps=1e-05, momentum=0.1, affine=True, track_running_stats=True)\n",
            "            (relu): ReLU(inplace=True)\n",
            "          )\n",
            "          (2): Bottleneck(\n",
            "            (conv1): Conv2d(2048, 512, kernel_size=(1, 1), stride=(1, 1), bias=False)\n",
            "            (bn1): BatchNorm2d(512, eps=1e-05, momentum=0.1, affine=True, track_running_stats=True)\n",
            "            (conv2): Conv2d(512, 512, kernel_size=(3, 3), stride=(1, 1), padding=(1, 1), bias=False)\n",
            "            (bn2): BatchNorm2d(512, eps=1e-05, momentum=0.1, affine=True, track_running_stats=True)\n",
            "            (conv3): Conv2d(512, 2048, kernel_size=(1, 1), stride=(1, 1), bias=False)\n",
            "            (bn3): BatchNorm2d(2048, eps=1e-05, momentum=0.1, affine=True, track_running_stats=True)\n",
            "            (relu): ReLU(inplace=True)\n",
            "          )\n",
            "        )\n",
            "      )\n",
            "      (fpn): FeaturePyramidNetwork(\n",
            "        (in_branches): ModuleList(\n",
            "          (0): Sequential(\n",
            "            (0): Conv2d(256, 256, kernel_size=(1, 1), stride=(1, 1), bias=False)\n",
            "            (1): BatchNorm2d(256, eps=1e-05, momentum=0.1, affine=True, track_running_stats=True)\n",
            "            (2): ReLU(inplace=True)\n",
            "          )\n",
            "          (1): Sequential(\n",
            "            (0): Conv2d(512, 256, kernel_size=(1, 1), stride=(1, 1), bias=False)\n",
            "            (1): BatchNorm2d(256, eps=1e-05, momentum=0.1, affine=True, track_running_stats=True)\n",
            "            (2): ReLU(inplace=True)\n",
            "          )\n",
            "          (2): Sequential(\n",
            "            (0): Conv2d(1024, 256, kernel_size=(1, 1), stride=(1, 1), bias=False)\n",
            "            (1): BatchNorm2d(256, eps=1e-05, momentum=0.1, affine=True, track_running_stats=True)\n",
            "            (2): ReLU(inplace=True)\n",
            "          )\n",
            "          (3): Sequential(\n",
            "            (0): Conv2d(2048, 256, kernel_size=(1, 1), stride=(1, 1), bias=False)\n",
            "            (1): BatchNorm2d(256, eps=1e-05, momentum=0.1, affine=True, track_running_stats=True)\n",
            "            (2): ReLU(inplace=True)\n",
            "          )\n",
            "        )\n",
            "        (upsample): Upsample(scale_factor=2.0, mode=bilinear)\n",
            "        (out_branches): ModuleList(\n",
            "          (0): Sequential(\n",
            "            (0): Conv2d(256, 64, kernel_size=(3, 3), stride=(1, 1), padding=(1, 1), bias=False)\n",
            "            (1): BatchNorm2d(64, eps=1e-05, momentum=0.1, affine=True, track_running_stats=True)\n",
            "            (2): ReLU(inplace=True)\n",
            "            (3): Upsample(scale_factor=1.0, mode=bilinear)\n",
            "          )\n",
            "          (1): Sequential(\n",
            "            (0): Conv2d(256, 64, kernel_size=(3, 3), stride=(1, 1), padding=(1, 1), bias=False)\n",
            "            (1): BatchNorm2d(64, eps=1e-05, momentum=0.1, affine=True, track_running_stats=True)\n",
            "            (2): ReLU(inplace=True)\n",
            "            (3): Upsample(scale_factor=2.0, mode=bilinear)\n",
            "          )\n",
            "          (2): Sequential(\n",
            "            (0): Conv2d(256, 64, kernel_size=(3, 3), stride=(1, 1), padding=(1, 1), bias=False)\n",
            "            (1): BatchNorm2d(64, eps=1e-05, momentum=0.1, affine=True, track_running_stats=True)\n",
            "            (2): ReLU(inplace=True)\n",
            "            (3): Upsample(scale_factor=4.0, mode=bilinear)\n",
            "          )\n",
            "          (3): Sequential(\n",
            "            (0): Conv2d(256, 64, kernel_size=(3, 3), stride=(1, 1), padding=(1, 1), bias=False)\n",
            "            (1): BatchNorm2d(64, eps=1e-05, momentum=0.1, affine=True, track_running_stats=True)\n",
            "            (2): ReLU(inplace=True)\n",
            "            (3): Upsample(scale_factor=8.0, mode=bilinear)\n",
            "          )\n",
            "        )\n",
            "      )\n",
            "      (prob_head): Sequential(\n",
            "        (0): Conv2d(256, 64, kernel_size=(3, 3), stride=(1, 1), padding=(1, 1), bias=False)\n",
            "        (1): BatchNorm2d(64, eps=1e-05, momentum=0.1, affine=True, track_running_stats=True)\n",
            "        (2): ReLU(inplace=True)\n",
            "        (3): ConvTranspose2d(64, 64, kernel_size=(2, 2), stride=(2, 2), bias=False)\n",
            "        (4): BatchNorm2d(64, eps=1e-05, momentum=0.1, affine=True, track_running_stats=True)\n",
            "        (5): ReLU(inplace=True)\n",
            "        (6): ConvTranspose2d(64, 1, kernel_size=(2, 2), stride=(2, 2))\n",
            "      )\n",
            "      (thresh_head): Sequential(\n",
            "        (0): Conv2d(256, 64, kernel_size=(3, 3), stride=(1, 1), padding=(1, 1), bias=False)\n",
            "        (1): BatchNorm2d(64, eps=1e-05, momentum=0.1, affine=True, track_running_stats=True)\n",
            "        (2): ReLU(inplace=True)\n",
            "        (3): ConvTranspose2d(64, 64, kernel_size=(2, 2), stride=(2, 2), bias=False)\n",
            "        (4): BatchNorm2d(64, eps=1e-05, momentum=0.1, affine=True, track_running_stats=True)\n",
            "        (5): ReLU(inplace=True)\n",
            "        (6): ConvTranspose2d(64, 1, kernel_size=(2, 2), stride=(2, 2))\n",
            "      )\n",
            "    )\n",
            "  )\n",
            "  (reco_predictor): RecognitionPredictor(\n",
            "    (pre_processor): PreProcessor(\n",
            "      (resize): Resize(output_size=(32, 128), interpolation='bilinear', preserve_aspect_ratio=True, symmetric_pad=False)\n",
            "      (normalize): Normalize(mean=(0.694, 0.695, 0.693), std=(0.299, 0.296, 0.301))\n",
            "    )\n",
            "    (model): CRNN(\n",
            "      (feat_extractor): Sequential(\n",
            "        (0): Conv2d(3, 64, kernel_size=(3, 3), stride=(1, 1), padding=(1, 1))\n",
            "        (1): BatchNorm2d(64, eps=1e-05, momentum=0.1, affine=True, track_running_stats=True)\n",
            "        (2): ReLU(inplace=True)\n",
            "        (3): Conv2d(64, 64, kernel_size=(3, 3), stride=(1, 1), padding=(1, 1))\n",
            "        (4): BatchNorm2d(64, eps=1e-05, momentum=0.1, affine=True, track_running_stats=True)\n",
            "        (5): ReLU(inplace=True)\n",
            "        (6): MaxPool2d(kernel_size=2, stride=2, padding=0, dilation=1, ceil_mode=False)\n",
            "        (7): Conv2d(64, 128, kernel_size=(3, 3), stride=(1, 1), padding=(1, 1))\n",
            "        (8): BatchNorm2d(128, eps=1e-05, momentum=0.1, affine=True, track_running_stats=True)\n",
            "        (9): ReLU(inplace=True)\n",
            "        (10): Conv2d(128, 128, kernel_size=(3, 3), stride=(1, 1), padding=(1, 1))\n",
            "        (11): BatchNorm2d(128, eps=1e-05, momentum=0.1, affine=True, track_running_stats=True)\n",
            "        (12): ReLU(inplace=True)\n",
            "        (13): MaxPool2d(kernel_size=2, stride=2, padding=0, dilation=1, ceil_mode=False)\n",
            "        (14): Conv2d(128, 256, kernel_size=(3, 3), stride=(1, 1), padding=(1, 1))\n",
            "        (15): BatchNorm2d(256, eps=1e-05, momentum=0.1, affine=True, track_running_stats=True)\n",
            "        (16): ReLU(inplace=True)\n",
            "        (17): Conv2d(256, 256, kernel_size=(3, 3), stride=(1, 1), padding=(1, 1))\n",
            "        (18): BatchNorm2d(256, eps=1e-05, momentum=0.1, affine=True, track_running_stats=True)\n",
            "        (19): ReLU(inplace=True)\n",
            "        (20): Conv2d(256, 256, kernel_size=(3, 3), stride=(1, 1), padding=(1, 1))\n",
            "        (21): BatchNorm2d(256, eps=1e-05, momentum=0.1, affine=True, track_running_stats=True)\n",
            "        (22): ReLU(inplace=True)\n",
            "        (23): MaxPool2d(kernel_size=(2, 1), stride=(2, 1), padding=0, dilation=1, ceil_mode=False)\n",
            "        (24): Conv2d(256, 512, kernel_size=(3, 3), stride=(1, 1), padding=(1, 1))\n",
            "        (25): BatchNorm2d(512, eps=1e-05, momentum=0.1, affine=True, track_running_stats=True)\n",
            "        (26): ReLU(inplace=True)\n",
            "        (27): Conv2d(512, 512, kernel_size=(3, 3), stride=(1, 1), padding=(1, 1))\n",
            "        (28): BatchNorm2d(512, eps=1e-05, momentum=0.1, affine=True, track_running_stats=True)\n",
            "        (29): ReLU(inplace=True)\n",
            "        (30): Conv2d(512, 512, kernel_size=(3, 3), stride=(1, 1), padding=(1, 1))\n",
            "        (31): BatchNorm2d(512, eps=1e-05, momentum=0.1, affine=True, track_running_stats=True)\n",
            "        (32): ReLU(inplace=True)\n",
            "        (33): MaxPool2d(kernel_size=(2, 1), stride=(2, 1), padding=0, dilation=1, ceil_mode=False)\n",
            "        (34): Conv2d(512, 512, kernel_size=(3, 3), stride=(1, 1), padding=(1, 1))\n",
            "        (35): BatchNorm2d(512, eps=1e-05, momentum=0.1, affine=True, track_running_stats=True)\n",
            "        (36): ReLU(inplace=True)\n",
            "        (37): Conv2d(512, 512, kernel_size=(3, 3), stride=(1, 1), padding=(1, 1))\n",
            "        (38): BatchNorm2d(512, eps=1e-05, momentum=0.1, affine=True, track_running_stats=True)\n",
            "        (39): ReLU(inplace=True)\n",
            "        (40): Conv2d(512, 512, kernel_size=(3, 3), stride=(1, 1), padding=(1, 1))\n",
            "        (41): BatchNorm2d(512, eps=1e-05, momentum=0.1, affine=True, track_running_stats=True)\n",
            "        (42): ReLU(inplace=True)\n",
            "        (43): MaxPool2d(kernel_size=(2, 1), stride=(2, 1), padding=0, dilation=1, ceil_mode=False)\n",
            "      )\n",
            "      (decoder): LSTM(512, 128, num_layers=2, batch_first=True, bidirectional=True)\n",
            "      (linear): Linear(in_features=256, out_features=124, bias=True)\n",
            "      (postprocessor): CTCPostProcessor(vocab_size=123)\n",
            "    )\n",
            "  )\n",
            ")\n"
          ]
        }
      ]
    },
    {
      "cell_type": "markdown",
      "metadata": {
        "id": "dlrtkNzTURAo"
      },
      "source": [
        "Here we are inspecting the most complex (and high-level) object of docTR API: an OCR predictor. Since docTR achieves Optical Character Recognition by first localizing textual elements (Text Detection), then extracting the corresponding text from each location (Text Recognition), the OCR Predictor wraps two sub-predictors: one for text detection, and the other for text recognition."
      ]
    },
    {
      "cell_type": "markdown",
      "metadata": {
        "id": "uyVfbzhUL-Rw"
      },
      "source": [
        "## Basic inference\n",
        "\n",
        "It looks quite complex, isn't it?\n",
        "Well that will not prevent you from easily get nice results. See for yourself:"
      ]
    },
    {
      "cell_type": "code",
      "metadata": {
        "id": "RLPsdCj3PWzI"
      },
      "source": [
        "result = predictor(doc)"
      ],
      "execution_count": 10,
      "outputs": []
    },
    {
      "cell_type": "markdown",
      "metadata": {
        "id": "eFAwQaKuPYXG"
      },
      "source": [
        "## Prediction visualization\n",
        "\n",
        "If you rightfully prefer to see the results with your eyes, docTR includes a few visualization features. We will first overlay our predictions on the original document:"
      ]
    },
    {
      "cell_type": "code",
      "metadata": {
        "id": "sOcqPNnPMAE7",
        "colab": {
          "base_uri": "https://localhost:8080/",
          "height": 751
        },
        "outputId": "b4f5f429-3edd-4134-b185-d6905b36df5a"
      },
      "source": [
        "result.show(doc)"
      ],
      "execution_count": 11,
      "outputs": [
        {
          "output_type": "display_data",
          "data": {
            "text/plain": [
              "<Figure size 556.364x720 with 1 Axes>"
            ],
            "image/png": "[encoded data removed]"
          },
          "metadata": {
            "needs_background": "light"
          }
        }
      ]
    },
    {
      "cell_type": "markdown",
      "metadata": {
        "id": "EnJERph1VXgN"
      },
      "source": [
        "Looks accurate!\n",
        "But we can go further: if the extracted information is correctly structured, we should be able to recreate the page entirely. So let's do this 🎨"
      ]
    },
    {
      "cell_type": "code",
      "metadata": {
        "id": "QdoSNYzROeRv",
        "colab": {
          "base_uri": "https://localhost:8080/",
          "height": 248
        },
        "outputId": "816376ca-adc6-4a55-decf-63c12cc711e9"
      },
      "source": [
        "synthetic_pages = result.synthesize()\n",
        "plt.imshow(synthetic_pages[0]); plt.axis('off'); plt.show()"
      ],
      "execution_count": 12,
      "outputs": [
        {
          "output_type": "display_data",
          "data": {
            "text/plain": [
              "<Figure size 432x288 with 1 Axes>"
            ],
            "image/png": "[encoded data removed]"
          },
          "metadata": {
            "needs_background": "light"
          }
        }
      ]
    },
    {
      "cell_type": "markdown",
      "metadata": {
        "id": "mEabainyPeV8"
      },
      "source": [
        "## Exporting results\n",
        "\n",
        "OK, so the predictions are relevant, but how would you integrate this into your own document processing pipeline? Perhaps you're not using Python at all?\n",
        "\n",
        "Well, if you happen to be using JSON or XML exports, they are already supported 🤗"
      ]
    },
    {
      "cell_type": "code",
      "metadata": {
        "id": "mhIolyjQOqLp",
        "colab": {
          "base_uri": "https://localhost:8080/"
        },
        "outputId": "13ef6952-c0e8-45cf-9b23-2079a6138f4e"
      },
      "source": [
        "# JSON export\n",
        "json_export = result.export()\n",
        "print(json_export)"
      ],
      "execution_count": 13,
      "outputs": [
        {
          "output_type": "stream",
          "name": "stdout",
          "text": [
            "{'pages': [{'page_idx': 0, 'dimensions': (1584, 1224), 'orientation': {'value': None, 'confidence': None}, 'language': {'value': None, 'confidence': None}, 'blocks': [{'geometry': ((0.314453125, 0.0634765625), (0.6875, 0.083984375)), 'lines': [{'geometry': ((0.314453125, 0.0634765625), (0.6875, 0.083984375)), 'words': [{'value': 'CASH', 'confidence': 0.9991496801376343, 'geometry': ((0.314453125, 0.064453125), (0.3984375, 0.0830078125))}, {'value': 'PAYMENT', 'confidence': 0.9999822378158569, 'geometry': ((0.40625, 0.0634765625), (0.5517578125, 0.083984375))}, {'value': 'RECEIPT', 'confidence': 0.9982283711433411, 'geometry': ((0.55859375, 0.0634765625), (0.6875, 0.083984375))}]}], 'artefacts': []}, {'geometry': ((0.115234375, 0.11328125), (0.2783203125, 0.3037109375)), 'lines': [{'geometry': ((0.1171875, 0.11328125), (0.2783203125, 0.134765625)), 'words': [{'value': 'Company', 'confidence': 0.9983745813369751, 'geometry': ((0.1171875, 0.11328125), (0.2109375, 0.134765625))}, {'value': 'Name:', 'confidence': 0.9669256806373596, 'geometry': ((0.212890625, 0.11328125), (0.2783203125, 0.130859375))}]}, {'geometry': ((0.1162109375, 0.1318359375), (0.263671875, 0.150390625)), 'words': [{'value': 'Street', 'confidence': 0.9996938705444336, 'geometry': ((0.1162109375, 0.1318359375), (0.1767578125, 0.150390625))}, {'value': 'Address:', 'confidence': 0.9818301796913147, 'geometry': ((0.1787109375, 0.1337890625), (0.263671875, 0.1484375))}]}, {'geometry': ((0.115234375, 0.150390625), (0.2646484375, 0.1728515625)), 'words': [{'value': 'City,', 'confidence': 0.9999579191207886, 'geometry': ((0.115234375, 0.150390625), (0.1630859375, 0.1728515625))}, {'value': 'State,', 'confidence': 0.9995167255401611, 'geometry': ((0.1650390625, 0.15234375), (0.22265625, 0.1708984375))}, {'value': 'Zip:', 'confidence': 0.9999488592147827, 'geometry': ((0.2236328125, 0.150390625), (0.2646484375, 0.1728515625))}]}, {'geometry': ((0.1171875, 0.169921875), (0.1865234375, 0.1875)), 'words': [{'value': 'Phone:', 'confidence': 0.9998382329940796, 'geometry': ((0.1171875, 0.169921875), (0.1865234375, 0.1875))}]}, {'geometry': ((0.1171875, 0.189453125), (0.16015625, 0.205078125)), 'words': [{'value': 'Fax:', 'confidence': 0.9999557733535767, 'geometry': ((0.1171875, 0.189453125), (0.16015625, 0.205078125))}]}, {'geometry': ((0.1162109375, 0.20703125), (0.177734375, 0.224609375)), 'words': [{'value': 'Email:', 'confidence': 0.99654620885849, 'geometry': ((0.1162109375, 0.20703125), (0.177734375, 0.224609375))}]}, {'geometry': ((0.1162109375, 0.2275390625), (0.2001953125, 0.2421875)), 'words': [{'value': 'Website:', 'confidence': 0.9696999788284302, 'geometry': ((0.1162109375, 0.2275390625), (0.2001953125, 0.2421875))}]}, {'geometry': ((0.1162109375, 0.2861328125), (0.1708984375, 0.3037109375)), 'words': [{'value': 'Date:', 'confidence': 0.9999265670776367, 'geometry': ((0.1162109375, 0.2861328125), (0.1708984375, 0.3037109375))}]}], 'artefacts': []}, {'geometry': ((0.6357421875, 0.287109375), (0.7333984375, 0.3056640625)), 'lines': [{'geometry': ((0.6357421875, 0.287109375), (0.7333984375, 0.3056640625)), 'words': [{'value': 'Receipt', 'confidence': 0.9998490810394287, 'geometry': ((0.6357421875, 0.287109375), (0.7099609375, 0.3056640625))}, {'value': '#:', 'confidence': 0.9998278617858887, 'geometry': ((0.7099609375, 0.287109375), (0.7333984375, 0.3046875))}]}], 'artefacts': []}, {'geometry': ((0.37109375, 0.3701171875), (0.6298828125, 0.3916015625)), 'lines': [{'geometry': ((0.37109375, 0.3701171875), (0.6298828125, 0.3916015625)), 'words': [{'value': 'Payment', 'confidence': 0.9969426989555359, 'geometry': ((0.37109375, 0.3701171875), (0.48046875, 0.3916015625))}, {'value': 'Information', 'confidence': 0.9889318943023682, 'geometry': ((0.4873046875, 0.3701171875), (0.6298828125, 0.3876953125))}]}], 'artefacts': []}, {'geometry': ((0.1162109375, 0.416015625), (0.2763671875, 0.517578125)), 'lines': [{'geometry': ((0.1171875, 0.416015625), (0.19921875, 0.4365234375)), 'words': [{'value': 'Paid', 'confidence': 0.9952682852745056, 'geometry': ((0.1171875, 0.4169921875), (0.162109375, 0.4326171875))}, {'value': 'By:', 'confidence': 0.999660849571228, 'geometry': ((0.1640625, 0.416015625), (0.19921875, 0.4365234375))}]}, {'geometry': ((0.1162109375, 0.4580078125), (0.2470703125, 0.474609375)), 'words': [{'value': 'Amount', 'confidence': 0.8845924735069275, 'geometry': ((0.1162109375, 0.4580078125), (0.1923828125, 0.47265625))}, {'value': 'Paid:', 'confidence': 0.9999610185623169, 'geometry': ((0.1962890625, 0.4580078125), (0.2470703125, 0.474609375))}]}, {'geometry': ((0.1162109375, 0.4970703125), (0.2763671875, 0.517578125)), 'words': [{'value': 'For', 'confidence': 0.9990000128746033, 'geometry': ((0.1162109375, 0.4970703125), (0.1533203125, 0.515625))}, {'value': 'Payment', 'confidence': 0.9996603727340698, 'geometry': ((0.1552734375, 0.4990234375), (0.2412109375, 0.517578125))}, {'value': 'Of:', 'confidence': 0.9992495179176331, 'geometry': ((0.2421875, 0.4970703125), (0.2763671875, 0.5166015625))}]}], 'artefacts': []}, {'geometry': ((0.5751953125, 0.4560546875), (0.671875, 0.4775390625)), 'lines': [{'geometry': ((0.5751953125, 0.4560546875), (0.671875, 0.4775390625)), 'words': [{'value': 'Dollars', 'confidence': 0.9999568462371826, 'geometry': ((0.5751953125, 0.45703125), (0.64453125, 0.474609375))}, {'value': '($', 'confidence': 0.8891334533691406, 'geometry': ((0.646484375, 0.4560546875), (0.671875, 0.4775390625))}]}], 'artefacts': []}, {'geometry': ((0.6005859375, 0.5693359375), (0.74609375, 0.65234375)), 'lines': [{'geometry': ((0.638671875, 0.5693359375), (0.74609375, 0.5888671875)), 'words': [{'value': 'Subtotal:', 'confidence': 0.9910097122192383, 'geometry': ((0.638671875, 0.5712890625), (0.7236328125, 0.5859375))}, {'value': '$', 'confidence': 0.9905773401260376, 'geometry': ((0.7265625, 0.5693359375), (0.74609375, 0.5888671875))}]}, {'geometry': ((0.6005859375, 0.6005859375), (0.73828125, 0.623046875)), 'words': [{'value': 'Tax', 'confidence': 0.9200722575187683, 'geometry': ((0.6005859375, 0.6005859375), (0.642578125, 0.619140625))}, {'value': 'Rate', 'confidence': 0.9997021555900574, 'geometry': ((0.64453125, 0.6025390625), (0.69140625, 0.6181640625))}, {'value': '(%):', 'confidence': 0.9982444047927856, 'geometry': ((0.6943359375, 0.6005859375), (0.73828125, 0.623046875))}]}, {'geometry': ((0.626953125, 0.6318359375), (0.74609375, 0.65234375)), 'words': [{'value': 'Total', 'confidence': 0.9508046507835388, 'geometry': ((0.626953125, 0.6337890625), (0.677734375, 0.650390625))}, {'value': 'Tax:', 'confidence': 0.9999213218688965, 'geometry': ((0.6796875, 0.6337890625), (0.7236328125, 0.6494140625))}, {'value': '$', 'confidence': 0.9962361454963684, 'geometry': ((0.7265625, 0.6318359375), (0.74609375, 0.65234375))}]}], 'artefacts': []}, {'geometry': ((0.533203125, 0.6630859375), (0.7490234375, 0.7470703125)), 'lines': [{'geometry': ((0.5439453125, 0.6630859375), (0.7490234375, 0.685546875)), 'words': [{'value': 'Total', 'confidence': 0.6785988211631775, 'geometry': ((0.5439453125, 0.6640625), (0.595703125, 0.6826171875))}, {'value': 'Amount', 'confidence': 0.9708536863327026, 'geometry': ((0.59765625, 0.666015625), (0.673828125, 0.6806640625))}, {'value': 'Due:', 'confidence': 0.9908701777458191, 'geometry': ((0.677734375, 0.666015625), (0.7236328125, 0.681640625))}, {'value': '$', 'confidence': 0.9960534572601318, 'geometry': ((0.7255859375, 0.6630859375), (0.7490234375, 0.685546875))}]}, {'geometry': ((0.5947265625, 0.6953125), (0.7451171875, 0.7158203125)), 'words': [{'value': 'Amount', 'confidence': 0.9975470900535583, 'geometry': ((0.5947265625, 0.697265625), (0.669921875, 0.7119140625))}, {'value': 'Paid:', 'confidence': 0.9769517779350281, 'geometry': ((0.6748046875, 0.697265625), (0.7236328125, 0.712890625))}, {'value': '$', 'confidence': 0.6455327868461609, 'geometry': ((0.7255859375, 0.6953125), (0.7451171875, 0.7158203125))}]}, {'geometry': ((0.533203125, 0.7265625), (0.744140625, 0.7470703125)), 'words': [{'value': 'Remaining', 'confidence': 0.9975044131278992, 'geometry': ((0.533203125, 0.7294921875), (0.6357421875, 0.7470703125))}, {'value': 'Balance:', 'confidence': 0.9993085861206055, 'geometry': ((0.6396484375, 0.7294921875), (0.72265625, 0.744140625))}, {'value': '$', 'confidence': 0.9855644106864929, 'geometry': ((0.7255859375, 0.7265625), (0.744140625, 0.7470703125))}]}], 'artefacts': []}, {'geometry': ((0.1171875, 0.80078125), (0.333984375, 0.861328125)), 'lines': [{'geometry': ((0.1181640625, 0.80078125), (0.2451171875, 0.8212890625)), 'words': [{'value': 'Received', 'confidence': 0.999503493309021, 'geometry': ((0.1181640625, 0.8017578125), (0.2080078125, 0.81640625))}, {'value': 'By:', 'confidence': 0.999924898147583, 'geometry': ((0.2109375, 0.80078125), (0.2451171875, 0.8212890625))}]}, {'geometry': ((0.1171875, 0.8408203125), (0.333984375, 0.861328125)), 'words': [{'value': 'Authorized', 'confidence': 0.9200044274330139, 'geometry': ((0.1171875, 0.8427734375), (0.228515625, 0.8564453125))}, {'value': 'Signature', 'confidence': 0.9994805455207825, 'geometry': ((0.2333984375, 0.8408203125), (0.333984375, 0.861328125))}]}], 'artefacts': []}, {'geometry': ((0.8271484375, 0.94140625), (0.9013671875, 0.9599609375)), 'lines': [{'geometry': ((0.8271484375, 0.94140625), (0.9013671875, 0.9599609375)), 'words': [{'value': 'Page', 'confidence': 0.9994620680809021, 'geometry': ((0.8271484375, 0.94140625), (0.869140625, 0.9599609375))}, {'value': '1', 'confidence': 0.9896445274353027, 'geometry': ((0.8701171875, 0.94140625), (0.8828125, 0.9560546875))}, {'value': 'of', 'confidence': 0.9998646974563599, 'geometry': ((0.8828125, 0.9423828125), (0.9013671875, 0.9560546875))}]}], 'artefacts': []}]}]}\n"
          ]
        }
      ]
    },
    {
      "cell_type": "code",
      "metadata": {
        "id": "3RsuKIlYPnNf",
        "colab": {
          "base_uri": "https://localhost:8080/"
        },
        "outputId": "4e88812b-3b7d-4d95-f1ef-3b9439afdfce"
      },
      "source": [
        "# XML export\n",
        "xml_output = result.export_as_xml()\n",
        "print(xml_output[0][0])"
      ],
      "execution_count": 14,
      "outputs": [
        {
          "output_type": "stream",
          "name": "stdout",
          "text": [
            "b'<html xml:lang=\"en\" xmlns=\"http://www.w3.org/1999/xhtml\"><head><title>docTR - XML export (hOCR)</title><meta content=\"text/html; charset=utf-8\" http-equiv=\"Content-Type\" /><meta content=\"python-doctr 0.6.0a0\" name=\"ocr-system\" /><meta content=\"ocr_page ocr_carea ocr_par ocr_line ocrx_word\" name=\"ocr-capabilities\" /></head><body><div class=\"ocr_page\" id=\"page_1\" title=\"image; bbox 0 0 1224 1584; ppageno 0\" /><div class=\"ocr_carea\" id=\"block_1\" title=\"bbox 385 101                     842 133\"><p class=\"ocr_par\" id=\"par_1\" title=\"bbox 385 101                     842 133\"><span class=\"ocr_line\" id=\"line_1\" title=\"bbox 385 101                         842 133;                         baseline 0 0; x_size 0; x_descenders 0; x_ascenders 0\"><span class=\"ocrx_word\" id=\"word_1\" title=\"bbox 385 102                             488 131;                             x_wconf 100\">CASH</span><span class=\"ocrx_word\" id=\"word_2\" title=\"bbox 497 101                             675 133;                             x_wconf 100\">PAYMENT</span><span class=\"ocrx_word\" id=\"word_3\" title=\"bbox 684 101                             842 133;                             x_wconf 100\">RECEIPT</span></span></p></div><div class=\"ocr_carea\" id=\"block_2\" title=\"bbox 141 179                     341 481\"><p class=\"ocr_par\" id=\"par_2\" title=\"bbox 141 179                     341 481\"><span class=\"ocr_line\" id=\"line_2\" title=\"bbox 143 179                         341 213;                         baseline 0 0; x_size 0; x_descenders 0; x_ascenders 0\"><span class=\"ocrx_word\" id=\"word_4\" title=\"bbox 143 179                             258 213;                             x_wconf 100\">Company</span><span class=\"ocrx_word\" id=\"word_5\" title=\"bbox 261 179                             341 207;                             x_wconf 97\">Name:</span></span><span class=\"ocr_line\" id=\"line_3\" title=\"bbox 142 209                         323 238;                         baseline 0 0; x_size 0; x_descenders 0; x_ascenders 0\"><span class=\"ocrx_word\" id=\"word_6\" title=\"bbox 142 209                             216 238;                             x_wconf 100\">Street</span><span class=\"ocrx_word\" id=\"word_7\" title=\"bbox 219 212                             323 235;                             x_wconf 98\">Address:</span></span><span class=\"ocr_line\" id=\"line_4\" title=\"bbox 141 238                         324 274;                         baseline 0 0; x_size 0; x_descenders 0; x_ascenders 0\"><span class=\"ocrx_word\" id=\"word_8\" title=\"bbox 141 238                             200 274;                             x_wconf 100\">City,</span><span class=\"ocrx_word\" id=\"word_9\" title=\"bbox 202 241                             273 271;                             x_wconf 100\">State,</span><span class=\"ocrx_word\" id=\"word_10\" title=\"bbox 274 238                             324 274;                             x_wconf 100\">Zip:</span></span><span class=\"ocr_line\" id=\"line_5\" title=\"bbox 143 269                         228 297;                         baseline 0 0; x_size 0; x_descenders 0; x_ascenders 0\"><span class=\"ocrx_word\" id=\"word_11\" title=\"bbox 143 269                             228 297;                             x_wconf 100\">Phone:</span></span><span class=\"ocr_line\" id=\"line_6\" title=\"bbox 143 300                         196 325;                         baseline 0 0; x_size 0; x_descenders 0; x_ascenders 0\"><span class=\"ocrx_word\" id=\"word_12\" title=\"bbox 143 300                             196 325;                             x_wconf 100\">Fax:</span></span><span class=\"ocr_line\" id=\"line_7\" title=\"bbox 142 328                         218 356;                         baseline 0 0; x_size 0; x_descenders 0; x_ascenders 0\"><span class=\"ocrx_word\" id=\"word_13\" title=\"bbox 142 328                             218 356;                             x_wconf 100\">Email:</span></span><span class=\"ocr_line\" id=\"line_8\" title=\"bbox 142 360                         245 384;                         baseline 0 0; x_size 0; x_descenders 0; x_ascenders 0\"><span class=\"ocrx_word\" id=\"word_14\" title=\"bbox 142 360                             245 384;                             x_wconf 97\">Website:</span></span><span class=\"ocr_line\" id=\"line_9\" title=\"bbox 142 453                         209 481;                         baseline 0 0; x_size 0; x_descenders 0; x_ascenders 0\"><span class=\"ocrx_word\" id=\"word_15\" title=\"bbox 142 453                             209 481;                             x_wconf 100\">Date:</span></span></p></div><div class=\"ocr_carea\" id=\"block_3\" title=\"bbox 778 455                     898 484\"><p class=\"ocr_par\" id=\"par_3\" title=\"bbox 778 455                     898 484\"><span class=\"ocr_line\" id=\"line_10\" title=\"bbox 778 455                         898 484;                         baseline 0 0; x_size 0; x_descenders 0; x_ascenders 0\"><span class=\"ocrx_word\" id=\"word_16\" title=\"bbox 778 455                             869 484;                             x_wconf 100\">Receipt</span><span class=\"ocrx_word\" id=\"word_17\" title=\"bbox 869 455                             898 483;                             x_wconf 100\">#:</span></span></p></div><div class=\"ocr_carea\" id=\"block_4\" title=\"bbox 454 586                     771 620\"><p class=\"ocr_par\" id=\"par_4\" title=\"bbox 454 586                     771 620\"><span class=\"ocr_line\" id=\"line_11\" title=\"bbox 454 586                         771 620;                         baseline 0 0; x_size 0; x_descenders 0; x_ascenders 0\"><span class=\"ocrx_word\" id=\"word_18\" title=\"bbox 454 586                             588 620;                             x_wconf 100\">Payment</span><span class=\"ocrx_word\" id=\"word_19\" title=\"bbox 596 586                             771 614;                             x_wconf 99\">Information</span></span></p></div><div class=\"ocr_carea\" id=\"block_5\" title=\"bbox 142 659                     338 820\"><p class=\"ocr_par\" id=\"par_5\" title=\"bbox 142 659                     338 820\"><span class=\"ocr_line\" id=\"line_12\" title=\"bbox 143 659                         244 691;                         baseline 0 0; x_size 0; x_descenders 0; x_ascenders 0\"><span class=\"ocrx_word\" id=\"word_20\" title=\"bbox 143 661                             198 685;                             x_wconf 100\">Paid</span><span class=\"ocrx_word\" id=\"word_21\" title=\"bbox 201 659                             244 691;                             x_wconf 100\">By:</span></span><span class=\"ocr_line\" id=\"line_13\" title=\"bbox 142 725                         302 752;                         baseline 0 0; x_size 0; x_descenders 0; x_ascenders 0\"><span class=\"ocrx_word\" id=\"word_22\" title=\"bbox 142 725                             235 749;                             x_wconf 88\">Amount</span><span class=\"ocrx_word\" id=\"word_23\" title=\"bbox 240 725                             302 752;                             x_wconf 100\">Paid:</span></span><span class=\"ocr_line\" id=\"line_14\" title=\"bbox 142 787                         338 820;                         baseline 0 0; x_size 0; x_descenders 0; x_ascenders 0\"><span class=\"ocrx_word\" id=\"word_24\" title=\"bbox 142 787                             188 817;                             x_wconf 100\">For</span><span class=\"ocrx_word\" id=\"word_25\" title=\"bbox 190 790                             295 820;                             x_wconf 100\">Payment</span><span class=\"ocrx_word\" id=\"word_26\" title=\"bbox 296 787                             338 818;                             x_wconf 100\">Of:</span></span></p></div><div class=\"ocr_carea\" id=\"block_6\" title=\"bbox 704 722                     822 756\"><p class=\"ocr_par\" id=\"par_6\" title=\"bbox 704 722                     822 756\"><span class=\"ocr_line\" id=\"line_15\" title=\"bbox 704 722                         822 756;                         baseline 0 0; x_size 0; x_descenders 0; x_ascenders 0\"><span class=\"ocrx_word\" id=\"word_27\" title=\"bbox 704 724                             789 752;                             x_wconf 100\">Dollars</span><span class=\"ocrx_word\" id=\"word_28\" title=\"bbox 791 722                             822 756;                             x_wconf 89\">($</span></span></p></div><div class=\"ocr_carea\" id=\"block_7\" title=\"bbox 735 902                     913 1033\"><p class=\"ocr_par\" id=\"par_7\" title=\"bbox 735 902                     913 1033\"><span class=\"ocr_line\" id=\"line_16\" title=\"bbox 782 902                         913 933;                         baseline 0 0; x_size 0; x_descenders 0; x_ascenders 0\"><span class=\"ocrx_word\" id=\"word_29\" title=\"bbox 782 905                             886 928;                             x_wconf 99\">Subtotal:</span><span class=\"ocrx_word\" id=\"word_30\" title=\"bbox 889 902                             913 933;                             x_wconf 99\">$</span></span><span class=\"ocr_line\" id=\"line_17\" title=\"bbox 735 951                         904 987;                         baseline 0 0; x_size 0; x_descenders 0; x_ascenders 0\"><span class=\"ocrx_word\" id=\"word_31\" title=\"bbox 735 951                             787 981;                             x_wconf 92\">Tax</span><span class=\"ocrx_word\" id=\"word_32\" title=\"bbox 789 954                             846 979;                             x_wconf 100\">Rate</span><span class=\"ocrx_word\" id=\"word_33\" title=\"bbox 850 951                             904 987;                             x_wconf 100\">(%):</span></span><span class=\"ocr_line\" id=\"line_18\" title=\"bbox 767 1001                         913 1033;                         baseline 0 0; x_size 0; x_descenders 0; x_ascenders 0\"><span class=\"ocrx_word\" id=\"word_34\" title=\"bbox 767 1004                             830 1030;                             x_wconf 95\">Total</span><span class=\"ocrx_word\" id=\"word_35\" title=\"bbox 832 1004                             886 1029;                             x_wconf 100\">Tax:</span><span class=\"ocrx_word\" id=\"word_36\" title=\"bbox 889 1001                             913 1033;                             x_wconf 100\">$</span></span></p></div><div class=\"ocr_carea\" id=\"block_8\" title=\"bbox 653 1050                     917 1183\"><p class=\"ocr_par\" id=\"par_8\" title=\"bbox 653 1050                     917 1183\"><span class=\"ocr_line\" id=\"line_19\" title=\"bbox 666 1050                         917 1086;                         baseline 0 0; x_size 0; x_descenders 0; x_ascenders 0\"><span class=\"ocrx_word\" id=\"word_37\" title=\"bbox 666 1052                             729 1081;                             x_wconf 68\">Total</span><span class=\"ocrx_word\" id=\"word_38\" title=\"bbox 732 1055                             825 1078;                             x_wconf 97\">Amount</span><span class=\"ocrx_word\" id=\"word_39\" title=\"bbox 830 1055                             886 1080;                             x_wconf 99\">Due:</span><span class=\"ocrx_word\" id=\"word_40\" title=\"bbox 888 1050                             917 1086;                             x_wconf 100\">$</span></span><span class=\"ocr_line\" id=\"line_20\" title=\"bbox 728 1101                         912 1134;                         baseline 0 0; x_size 0; x_descenders 0; x_ascenders 0\"><span class=\"ocrx_word\" id=\"word_41\" title=\"bbox 728 1104                             820 1128;                             x_wconf 100\">Amount</span><span class=\"ocrx_word\" id=\"word_42\" title=\"bbox 826 1104                             886 1129;                             x_wconf 98\">Paid:</span><span class=\"ocrx_word\" id=\"word_43\" title=\"bbox 888 1101                             912 1134;                             x_wconf 65\">$</span></span><span class=\"ocr_line\" id=\"line_21\" title=\"bbox 653 1151                         911 1183;                         baseline 0 0; x_size 0; x_descenders 0; x_ascenders 0\"><span class=\"ocrx_word\" id=\"word_44\" title=\"bbox 653 1156                             778 1183;                             x_wconf 100\">Remaining</span><span class=\"ocrx_word\" id=\"word_45\" title=\"bbox 783 1156                             885 1179;                             x_wconf 100\">Balance:</span><span class=\"ocrx_word\" id=\"word_46\" title=\"bbox 888 1151                             911 1183;                             x_wconf 99\">$</span></span></p></div><div class=\"ocr_carea\" id=\"block_9\" title=\"bbox 143 1268                     409 1364\"><p class=\"ocr_par\" id=\"par_9\" title=\"bbox 143 1268                     409 1364\"><span class=\"ocr_line\" id=\"line_22\" title=\"bbox 145 1268                         300 1301;                         baseline 0 0; x_size 0; x_descenders 0; x_ascenders 0\"><span class=\"ocrx_word\" id=\"word_47\" title=\"bbox 145 1270                             255 1293;                             x_wconf 100\">Received</span><span class=\"ocrx_word\" id=\"word_48\" title=\"bbox 258 1268                             300 1301;                             x_wconf 100\">By:</span></span><span class=\"ocr_line\" id=\"line_23\" title=\"bbox 143 1332                         409 1364;                         baseline 0 0; x_size 0; x_descenders 0; x_ascenders 0\"><span class=\"ocrx_word\" id=\"word_49\" title=\"bbox 143 1335                             280 1357;                             x_wconf 92\">Authorized</span><span class=\"ocrx_word\" id=\"word_50\" title=\"bbox 286 1332                             409 1364;                             x_wconf 100\">Signature</span></span></p></div><div class=\"ocr_carea\" id=\"block_10\" title=\"bbox 1012 1491                     1103 1521\"><p class=\"ocr_par\" id=\"par_10\" title=\"bbox 1012 1491                     1103 1521\"><span class=\"ocr_line\" id=\"line_24\" title=\"bbox 1012 1491                         1103 1521;                         baseline 0 0; x_size 0; x_descenders 0; x_ascenders 0\"><span class=\"ocrx_word\" id=\"word_51\" title=\"bbox 1012 1491                             1064 1521;                             x_wconf 100\">Page</span><span class=\"ocrx_word\" id=\"word_52\" title=\"bbox 1065 1491                             1081 1514;                             x_wconf 99\">1</span><span class=\"ocrx_word\" id=\"word_53\" title=\"bbox 1081 1493                             1103 1514;                             x_wconf 100\">of</span></span></p></div></body></html>'\n"
          ]
        }
      ]
    }
  ]
}