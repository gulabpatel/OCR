{
  "nbformat": 4,
  "nbformat_minor": 0,
  "metadata": {
    "kernelspec": {
      "display_name": "Python 3",
      "language": "python",
      "name": "python3"
    },
    "language_info": {
      "codemirror_mode": {
        "name": "ipython",
        "version": 3
      },
      "file_extension": ".py",
      "mimetype": "text/x-python",
      "name": "python",
      "nbconvert_exporter": "python",
      "pygments_lexer": "ipython3",
      "version": "3.7.3"
    },
    "colab": {
      "name": "01: PyTesseract_End_to_End_Invoice.ipynb",
      "provenance": [],
      "collapsed_sections": [],
      "include_colab_link": true
    }
  },
  "cells": [
    {
      "cell_type": "markdown",
      "metadata": {
        "id": "view-in-github",
        "colab_type": "text"
      },
      "source": [
        "<a href=\"https://colab.research.google.com/github/gulabpatel/OCR/blob/main/01%3A%20PyTesseract_End_to_End_Invoice.ipynb\" target=\"_parent\"><img src=\"https://colab.research.google.com/assets/colab-badge.svg\" alt=\"Open In Colab\"/></a>"
      ]
    },
    {
      "cell_type": "markdown",
      "metadata": {
        "id": "WIfRTICIVBfb"
      },
      "source": [
        "Use OpenCV or NLTK kind of library to read text (OCR) from it and categories all images in the categories like Home utility, Grocery, Shopping, Vehicle expenditure, Entertainment and Investment. \n",
        "1. Extract the text from the images and store it in categorical wise CSV file. Each category \n",
        "have separate CSV file.\n",
        "2. Each CSV file store the information like date of bill, organization name which generate \n",
        "the bill, bill amount and tax information(if any) \n",
        "3. Show table which is showing the expenses details category wise and display them in \n",
        "pie chart. \n",
        " 4. Give suggestion to user, based on his expenditure which lead to increase the saving. \n",
        "\n",
        "Video walkthrough the code : https://www.youtube.com/watch?v=qfO9gqqMWxU\n"
      ]
    },
    {
      "cell_type": "markdown",
      "metadata": {
        "id": "WY8eS9nyVBff"
      },
      "source": [
        "18BCE168\n",
        "SHAILI PATEL\n",
        "2S404\n",
        "C DIVISION"
      ]
    },
    {
      "cell_type": "code",
      "metadata": {
        "id": "LoFWW6B-Q7vy"
      },
      "source": [
        "!sudo apt install tesseract-ocr"
      ],
      "execution_count": null,
      "outputs": []
    },
    {
      "cell_type": "code",
      "metadata": {
        "id": "3ESOwFgAZhTn"
      },
      "source": [
        "pip install -U git+https://github.com/madmaze/pytesseract.git"
      ],
      "execution_count": null,
      "outputs": []
    },
    {
      "cell_type": "code",
      "metadata": {
        "id": "W9LYS5G0VBff"
      },
      "source": [
        "from PIL import Image\n",
        "import pytesseract\n",
        "import argparse\n",
        "import cv2\n",
        "import os\n",
        "import pandas as pd\n",
        "import seaborn as sns\n",
        "import matplotlib.pyplot as plt\n",
        "import numpy as np\n",
        "import csv\n",
        "import nltk\n",
        "import re\n",
        "from nltk.tokenize import word_tokenize\n",
        "from nltk.corpus import wordnet "
      ],
      "execution_count": 3,
      "outputs": []
    },
    {
      "cell_type": "markdown",
      "metadata": {
        "id": "L277CFlkVBfg"
      },
      "source": [
        "read the below dummy model as i have elaborated every step after the code.\n",
        "the below code shows how i created 7 csv files .i have gave demo of one bill in this notbook."
      ]
    },
    {
      "cell_type": "raw",
      "metadata": {
        "jupyter": {
          "outputs_hidden": true
        },
        "id": "hWua7agHVBfh"
      },
      "source": [
        "#lets make a protopye of first qustion\n",
        "#to scan 100 images \n",
        "\n",
        "''' #question 1\n",
        "    for i in range(0,100):\n",
        "     image=cv2.imread('bill{}.png'.format(i),0)\n",
        "\n",
        "     text=(pytesseract.image_to_string(image)).lower()\n",
        "     print(text)\n",
        "     \n",
        "     use the operaations to create list which contains date,organisation name and amount\n",
        "     store it in a list\n",
        "     \n",
        "    #create a csv file\n",
        "    file=['entertainment','investment','shopping','grocery','transport','home','others']\n",
        "    for i in file:\n",
        "    with open('{}.csv',format(file[i]), 'a', newline='') as csvfile:\n",
        "        w = csv.writer(csvfile, delimiter=',',quoting=csv.QUOTE_MINIMAL)\n",
        "        w.writerow(['date','organisation','amount'])\n",
        "    #question 2->appening the contents\n",
        "    #after identifing the category of the file\n",
        "    #add the contents in thier respective csv file\n",
        "    row_contents = [st,head,x]\n",
        "    from csv import writer\n",
        " \n",
        "        def append_list_as_row(file, list_of_elem):\n",
        "   \n",
        "            with open(file, 'a+', newline='') as write_obj:\n",
        "       \n",
        "            csv_writer = writer(write_obj)\n",
        "        \n",
        "            csv_writer.writerow(list_of_elem)\n",
        "    append_list_as_row(filename, row_contents)\n",
        "    #this is how appending was done.now you can save the notebook to make sure that csv file is saved.\n",
        "    #and then begain with the data analysis part.\n",
        "    \n",
        "        \n",
        "    '''\n"
      ]
    },
    {
      "cell_type": "markdown",
      "metadata": {
        "id": "X2sG96N5VBfh"
      },
      "source": [
        "here is demo of one bill that i scaned.i downloaded few bills from internet as those category bills were not available at home."
      ]
    },
    {
      "cell_type": "code",
      "metadata": {
        "id": "VY-QDnxyVBfi"
      },
      "source": [
        "#question one\n",
        "#lets read an image   ###!wget https://github.com/gulabpatel/OCR/blob/main/dataset/bill3.png\n",
        "image=cv2.imread('/content/bill3.png',0)"
      ],
      "execution_count": 4,
      "outputs": []
    },
    {
      "cell_type": "code",
      "metadata": {
        "id": "yJw6KqshVBfj",
        "colab": {
          "base_uri": "https://localhost:8080/"
        },
        "outputId": "090aa349-b75e-434f-8218-2c2d1d200f41"
      },
      "source": [
        "#convert it into text\n",
        "text=(pytesseract.image_to_string(image)).lower()\n",
        "print(text)"
      ],
      "execution_count": 5,
      "outputs": [
        {
          "output_type": "stream",
          "text": [
            "ying thai kitchen\n",
            "2220 queen anne ave n\n",
            "seattle wa 98109\n",
            "« (206) 285-8424 fax. (206) 285-8427\n",
            "‘uw .yingthaikitchen.com\n",
            "welcome to ying thai kitchen restaurant,\n",
            "\n",
            " \n",
            "\n",
            " \n",
            "\n",
            " \n",
            "\n",
            "order#:17 table 2\n",
            "date: 7/4/2013 7:28 pm\n",
            "\n",
            "server: jack (1.4)\n",
            "44 ginger lover $9.50\n",
            "[pork] [24#]\n",
            "\n",
            "brown rice $2.00\n",
            "total 2 iten(s) $11.50\n",
            "sales tax $1.09\n",
            "grand total $12.59\n",
            "tip guide\n",
            "\n",
            "tek=$1.89, 18%=62.27, 20%=82.52\n",
            "thank you very much,\n",
            "cone back again\n",
            "\f\n"
          ],
          "name": "stdout"
        }
      ]
    },
    {
      "cell_type": "code",
      "metadata": {
        "id": "FIFtas6rVBfk",
        "colab": {
          "base_uri": "https://localhost:8080/"
        },
        "outputId": "8acd1918-1e01-45ff-a478-9a3e4d343d7b"
      },
      "source": [
        "#identify the date\n",
        "\n",
        "match=re.findall(r'\\d+[/.-]\\d+[/.-]\\d+', text)\n",
        "\n",
        "st=\" \"\n",
        "st=st.join(match)\n",
        "print(st)"
      ],
      "execution_count": 6,
      "outputs": [
        {
          "output_type": "stream",
          "text": [
            "7/4/2013\n"
          ],
          "name": "stdout"
        }
      ]
    },
    {
      "cell_type": "raw",
      "metadata": {
        "id": "o7hgBG94VBfk"
      },
      "source": [
        "#output\n",
        "7/4/2013"
      ]
    },
    {
      "cell_type": "raw",
      "metadata": {
        "id": "R2RxUQ77VBfl"
      },
      "source": [
        "some times the format of the date wont be the same for all the bills.\n",
        "so if the date is ->1/03/17\n",
        "so wee need to change yy to yyyy format\n",
        "for that\n",
        "the below code will work\n",
        "\n",
        "#formatting the date if required\n",
        "l=st.split('/')\n",
        "add='20'\n",
        "if len(l[2])==2:\n",
        "         add=add+l[2]\n",
        "         l[2]=add\n",
        "d='/'\n",
        "d=d.join(l)\n",
        "st=d\n",
        "output->01/07/2017"
      ]
    },
    {
      "cell_type": "code",
      "metadata": {
        "id": "c0MhTp-lVBfl",
        "colab": {
          "base_uri": "https://localhost:8080/"
        },
        "outputId": "acfd31f0-7807-4a1d-97fa-d8dd98722c22"
      },
      "source": [
        "nltk.download('punkt',quiet=True)\n",
        "nltk.download('wordnet',quiet=True)"
      ],
      "execution_count": 7,
      "outputs": [
        {
          "output_type": "execute_result",
          "data": {
            "text/plain": [
              "True"
            ]
          },
          "metadata": {
            "tags": []
          },
          "execution_count": 7
        }
      ]
    },
    {
      "cell_type": "code",
      "metadata": {
        "id": "waKhky-OVBfm",
        "colab": {
          "base_uri": "https://localhost:8080/",
          "height": 35
        },
        "outputId": "1e18cbfb-33b1-4e31-cb97-9a2c1bcea6fe"
      },
      "source": [
        "#lets try to extract title\n",
        "sent_tokens = nltk.sent_tokenize(text)\n",
        "#print(sent_tokens)\n",
        "sent_tokens[0].splitlines()[0]\n"
      ],
      "execution_count": 8,
      "outputs": [
        {
          "output_type": "execute_result",
          "data": {
            "application/vnd.google.colaboratory.intrinsic+json": {
              "type": "string"
            },
            "text/plain": [
              "'ying thai kitchen'"
            ]
          },
          "metadata": {
            "tags": []
          },
          "execution_count": 8
        }
      ]
    },
    {
      "cell_type": "raw",
      "metadata": {
        "id": "8DswlNiKVBfm"
      },
      "source": [
        "#output:\n",
        "'ying thai kitchen'"
      ]
    },
    {
      "cell_type": "raw",
      "metadata": {
        "id": "WwCfFp_4VBfm"
      },
      "source": [
        "the other way of extracting title\n",
        "#title.split('\\n')\n",
        "for i in title.split('\\n'):\n",
        "    break\n",
        "head=i\n",
        "print(head)"
      ]
    },
    {
      "cell_type": "code",
      "metadata": {
        "id": "W8UR8awBVBfn",
        "colab": {
          "base_uri": "https://localhost:8080/"
        },
        "outputId": "5f47343f-01d1-4c10-8459-e2db07d546be"
      },
      "source": [
        "#lets find the price of the category.\n",
        "price=re.findall(r'[\\$\\£\\€](\\d+(?:\\.\\d{1,2})?)',text)\n",
        "price = list(map(float,price)) \n",
        "print(max(price))\n",
        "x=max(price)  "
      ],
      "execution_count": 11,
      "outputs": [
        {
          "output_type": "stream",
          "text": [
            "12.59\n"
          ],
          "name": "stdout"
        }
      ]
    },
    {
      "cell_type": "markdown",
      "metadata": {
        "id": "-nYLDGKDVBfo"
      },
      "source": [
        "output:\n",
        "12.59"
      ]
    },
    {
      "cell_type": "raw",
      "metadata": {
        "id": "4exM3wkoVBfp"
      },
      "source": [
        "while scanning i found that  prices of five to six bills were not able to scan,so i used other trick \n",
        "which is given below:\n",
        "\n",
        "code:\n",
        "\n",
        "for i in range(len(new_words)):\n",
        "    if new_words[i]=='grand' and new_words[i+1]=='total':\n",
        "        break\n",
        "price=new_words[i+2]\n",
        "print(price) \n",
        "x=price"
      ]
    },
    {
      "cell_type": "code",
      "metadata": {
        "id": "oHPI3DX9VBfq",
        "colab": {
          "base_uri": "https://localhost:8080/"
        },
        "outputId": "d2851169-aa7f-4bfd-d9c3-2f2d1c681897"
      },
      "source": [
        "#till here we have extracted date,title and amount.\n",
        "#now its time to categorise bill whether it is shopping or grocery like wise\n",
        "#so i will first tokenise the text and search for key words\n",
        "print(word_tokenize(text))"
      ],
      "execution_count": 12,
      "outputs": [
        {
          "output_type": "stream",
          "text": [
            "['ying', 'thai', 'kitchen', '2220', 'queen', 'anne', 'ave', 'n', 'seattle', 'wa', '98109', '«', '(', '206', ')', '285-8424', 'fax', '.', '(', '206', ')', '285-8427', '‘', 'uw', '.yingthaikitchen.com', 'welcome', 'to', 'ying', 'thai', 'kitchen', 'restaurant', ',', 'order', '#', ':17', 'table', '2', 'date', ':', '7/4/2013', '7:28', 'pm', 'server', ':', 'jack', '(', '1.4', ')', '44', 'ginger', 'lover', '$', '9.50', '[', 'pork', ']', '[', '24', '#', ']', 'brown', 'rice', '$', '2.00', 'total', '2', 'iten', '(', 's', ')', '$', '11.50', 'sales', 'tax', '$', '1.09', 'grand', 'total', '$', '12.59', 'tip', 'guide', 'tek=', '$', '1.89', ',', '18', '%', '=62.27', ',', '20', '%', '=82.52', 'thank', 'you', 'very', 'much', ',', 'cone', 'back', 'again']\n"
          ],
          "name": "stdout"
        }
      ]
    },
    {
      "cell_type": "code",
      "metadata": {
        "id": "18XEC6sEVBfr",
        "colab": {
          "base_uri": "https://localhost:8080/"
        },
        "outputId": "feefe38a-0395-40a1-ba82-5b0c07964b69"
      },
      "source": [
        "#we will remove punctuation\n",
        "tokenizer = nltk.RegexpTokenizer(r\"\\w+\")\n",
        "new_words = tokenizer.tokenize(text)\n",
        "print(new_words)"
      ],
      "execution_count": 13,
      "outputs": [
        {
          "output_type": "stream",
          "text": [
            "['ying', 'thai', 'kitchen', '2220', 'queen', 'anne', 'ave', 'n', 'seattle', 'wa', '98109', '206', '285', '8424', 'fax', '206', '285', '8427', 'uw', 'yingthaikitchen', 'com', 'welcome', 'to', 'ying', 'thai', 'kitchen', 'restaurant', 'order', '17', 'table', '2', 'date', '7', '4', '2013', '7', '28', 'pm', 'server', 'jack', '1', '4', '44', 'ginger', 'lover', '9', '50', 'pork', '24', 'brown', 'rice', '2', '00', 'total', '2', 'iten', 's', '11', '50', 'sales', 'tax', '1', '09', 'grand', 'total', '12', '59', 'tip', 'guide', 'tek', '1', '89', '18', '62', '27', '20', '82', '52', 'thank', 'you', 'very', 'much', 'cone', 'back', 'again']\n"
          ],
          "name": "stdout"
        }
      ]
    },
    {
      "cell_type": "code",
      "metadata": {
        "id": "D-UU3D5tVBfr",
        "colab": {
          "base_uri": "https://localhost:8080/"
        },
        "outputId": "149bca2c-e702-4351-cfbe-529e20b724d1"
      },
      "source": [
        "#stop_words = set(nltk.corpus.stopwords.words('english')) \n",
        "nltk.download('stopwords')"
      ],
      "execution_count": 14,
      "outputs": [
        {
          "output_type": "stream",
          "text": [
            "[nltk_data] Downloading package stopwords to /root/nltk_data...\n",
            "[nltk_data]   Unzipping corpora/stopwords.zip.\n"
          ],
          "name": "stdout"
        },
        {
          "output_type": "execute_result",
          "data": {
            "text/plain": [
              "True"
            ]
          },
          "metadata": {
            "tags": []
          },
          "execution_count": 14
        }
      ]
    },
    {
      "cell_type": "code",
      "metadata": {
        "id": "fskgZEYcVBfs"
      },
      "source": [
        "#there are stop words like a ,an,the etc which are not required\n",
        "#so we need to filter them\n",
        "stop_words = set(nltk.corpus.stopwords.words('english')) "
      ],
      "execution_count": 15,
      "outputs": []
    },
    {
      "cell_type": "code",
      "metadata": {
        "id": "hFTsUV4dVBft",
        "colab": {
          "base_uri": "https://localhost:8080/"
        },
        "outputId": "b0ff1b68-0993-4942-eb2b-91cca0ec2784"
      },
      "source": [
        "#there is the filetred list\n",
        "filtered_list=[w for w in new_words if w not in stop_words ]\n",
        "print(filtered_list)"
      ],
      "execution_count": 16,
      "outputs": [
        {
          "output_type": "stream",
          "text": [
            "['ying', 'thai', 'kitchen', '2220', 'queen', 'anne', 'ave', 'n', 'seattle', 'wa', '98109', '206', '285', '8424', 'fax', '206', '285', '8427', 'uw', 'yingthaikitchen', 'com', 'welcome', 'ying', 'thai', 'kitchen', 'restaurant', 'order', '17', 'table', '2', 'date', '7', '4', '2013', '7', '28', 'pm', 'server', 'jack', '1', '4', '44', 'ginger', 'lover', '9', '50', 'pork', '24', 'brown', 'rice', '2', '00', 'total', '2', 'iten', '11', '50', 'sales', 'tax', '1', '09', 'grand', 'total', '12', '59', 'tip', 'guide', 'tek', '1', '89', '18', '62', '27', '20', '82', '52', 'thank', 'much', 'cone', 'back']\n"
          ],
          "name": "stdout"
        }
      ]
    },
    {
      "cell_type": "markdown",
      "metadata": {
        "id": "NygJGbn1VBfu"
      },
      "source": [
        "in the next six blocks we will make list of 6 categories.these list will contain few words which are relatable to the category of bill.for instance suppose the above bill of the restuarant would include words like kitchen,food or restuarant.so we will compare it list category and likewise allot the rescpective category."
      ]
    },
    {
      "cell_type": "code",
      "metadata": {
        "id": "QyzwOOAdVBfu"
      },
      "source": [
        "#entertainment\n",
        "entertainment = [] \n",
        "for syn in wordnet.synsets(\"entertainment\"): \n",
        "    for l in syn.lemmas(): \n",
        "        entertainment.append(l.name()) \n",
        "        \n",
        "l=['happy','restaurant','food','kitchen','hotel','room','park','movie','cinema','popcorn','combo meal']\n",
        "entertainment=entertainment+l\n"
      ],
      "execution_count": 17,
      "outputs": []
    },
    {
      "cell_type": "code",
      "metadata": {
        "id": "d8td5RQaVBfu"
      },
      "source": [
        "#home utility\n",
        "home_utility=[] \n",
        "for syn in wordnet.synsets(\"home\"): \n",
        "    for l in syn.lemmas(): \n",
        "         home_utility.append(l.name()) \n",
        "l2=['internet','telephone','elecricity','meter','wifi','broadband','consumer','reading','gas','water','postpaid','prepaid']\n",
        "home_utility+=l2"
      ],
      "execution_count": 18,
      "outputs": []
    },
    {
      "cell_type": "code",
      "metadata": {
        "id": "S0KljiS6VBfu"
      },
      "source": [
        "#grocery\n",
        " \n",
        "grocery=[] \n",
        "for syn in wordnet.synsets(\"grocery\"): \n",
        "    for l in syn.lemmas(): \n",
        "         grocery.append(l.name())\n",
        "l3=['bigbasket','milk','atta','sugar','suflower','oil','bread','vegetabe','fruit','salt','paneer']\n",
        "grocery+=l3\n"
      ],
      "execution_count": 19,
      "outputs": []
    },
    {
      "cell_type": "code",
      "metadata": {
        "id": "3-T927njVBfu"
      },
      "source": [
        "#investment\n",
        "investment=[] \n",
        "for syn in wordnet.synsets(\"investment\"): \n",
        "    for l in syn.lemmas(): \n",
        "         investment.append(l.name()) \n",
        "l1=['endowment','grant','loan','applicant','income','expenditure','profit','interest','expense','finance','property','money','fixed','deposit','kissan','vikas']\n",
        "investment=investment+l1"
      ],
      "execution_count": 20,
      "outputs": []
    },
    {
      "cell_type": "code",
      "metadata": {
        "id": "RbTuEd_cVBfv"
      },
      "source": [
        "#travel and transportation\n",
        "transport=[]\n",
        "for syn in wordnet.synsets(\"car\"): \n",
        "    for l in syn.lemmas(): \n",
        "         transport.append(l.name()) \n",
        "l4=['cab','ola','uber','autorickshaw','railway','air','emirates','aerofloat','taxi','booking','road','highway']\n",
        "transport+=l4"
      ],
      "execution_count": 21,
      "outputs": []
    },
    {
      "cell_type": "code",
      "metadata": {
        "id": "59w321RDVBfv"
      },
      "source": [
        "#shopping\n",
        "shopping=[]\n",
        "for syn in wordnet.synsets(\"dress\"): \n",
        "    for l in syn.lemmas(): \n",
        "         shopping.append(l.name()) \n",
        "l4=['iphone','laptop','saree','max','pantaloons','westside','vedic','makeup','lipstick','cosmetics','mac','facewash','heels','crocs','footwear','purse']\n",
        "shopping+=l4"
      ],
      "execution_count": 22,
      "outputs": []
    },
    {
      "cell_type": "code",
      "metadata": {
        "id": "HWro-qHqVBfv"
      },
      "source": [
        "#here we will check that the bill belongs to which category\n",
        "#we will make that category true.\n",
        "for word in filtered_list:\n",
        "    if word in entertainment:\n",
        "        e=True\n",
        "        break\n",
        "    elif word in investment:\n",
        "        inv=True\n",
        "        break\n",
        "    elif word in grocery:\n",
        "        g=True\n",
        "        break\n",
        "    elif word in shopping:\n",
        "        s=True\n",
        "        break\n",
        "    elif word in transport:\n",
        "        t=True\n",
        "        break\n",
        "    elif word in home_utility:\n",
        "        h=True\n",
        "        break\n",
        "            "
      ],
      "execution_count": 23,
      "outputs": []
    },
    {
      "cell_type": "code",
      "metadata": {
        "collapsed": true,
        "jupyter": {
          "outputs_hidden": true
        },
        "id": "ktJS_Fy4VBfx"
      },
      "source": [
        "#this is how i created all the csv files.\n",
        "'''with open('entertainment.csv', 'a', newline='') as csvfile:\n",
        "    spamwriter = csv.writer(csvfile, delimiter=',',quoting=csv.QUOTE_MINIMAL)\n",
        "    spamwriter.writerow(['date','organisation','amount'])'''\n",
        "   \n",
        "   "
      ],
      "execution_count": 30,
      "outputs": []
    },
    {
      "cell_type": "code",
      "metadata": {
        "id": "jUsDM6ByVBfx",
        "colab": {
          "base_uri": "https://localhost:8080/"
        },
        "outputId": "cebda72a-ef8f-4b25-86ce-c6771061abdc"
      },
      "source": [
        "#question 2\n",
        "#this code the category in which the bill belongs to\n",
        "#if e is true then entertainment categrory and we will ,ake filename as entertainment.csv using\n",
        "#formatting\n",
        "if(e):\n",
        "    print(\"entertainment category\")\n",
        "    filename='{}.csv'.format('entertainment')\n",
        "    #df=pd.read_csv('entertainment.csv')\n",
        "elif(inv):\n",
        "    print(\"investment category\")\n",
        "    filename='{}.csv'.format('investment')\n",
        "    #df=pd.read_csv('investment.csv')\n",
        "elif(s):\n",
        "    print(\"shopping category\")\n",
        "    filename='{}.csv'.format('shopping')\n",
        "    #df=pd.read_csv('shopping.csv')\n",
        "elif(g):\n",
        "    print(\"grocery category\")\n",
        "    filename='{}.csv'.format('grocery')\n",
        "    #df=pd.read_csv('grocery.csv')\n",
        "elif(t):\n",
        "    print(\"transport category\")\n",
        "    filename='{}.csv'.format('transport')\n",
        "    #df=pd.read_csv('transport.csv')\n",
        "elif(h):\n",
        "    print(\"home utility category\")\n",
        "    filename='{}.csv'.format('home')\n",
        "    #df=pd.read_csv('home.csv')\n",
        "else:\n",
        "    print(\"others\")\n",
        "    filename='{}.csv'.format('others')\n",
        "    #df=pd.read_csv('others.csv')\n",
        "        \n",
        "        \n"
      ],
      "execution_count": 31,
      "outputs": [
        {
          "output_type": "stream",
          "text": [
            "entertainment category\n"
          ],
          "name": "stdout"
        }
      ]
    },
    {
      "cell_type": "code",
      "metadata": {
        "id": "8WS159l7VBfy"
      },
      "source": [
        "#add the contents in thier respective csv file\n",
        "row_contents = [st, head, x]\n",
        "from csv import writer\n",
        " \n",
        "def append_list_as_row(file, list_of_elem):\n",
        "   \n",
        "    with open(file, 'a+', newline='') as write_obj:\n",
        "       \n",
        "        csv_writer = writer(write_obj)\n",
        "        \n",
        "        csv_writer.writerow(list_of_elem)\n",
        "append_list_as_row(filename, row_contents)"
      ],
      "execution_count": null,
      "outputs": []
    },
    {
      "cell_type": "raw",
      "metadata": {
        "id": "AGb4_QcCVBfy"
      },
      "source": [
        "this was the end of question one and two where we read image,converted into text ,extracted data and stored in the respective category.\n",
        "now we will move on to third and fourth question that is all about data analysis\n",
        "woohooo this is my favourite part."
      ]
    },
    {
      "cell_type": "code",
      "metadata": {
        "id": "WgxH4iHnVBfy"
      },
      "source": [
        "#after this make sure you save it\n",
        "entertainment=pd.read_csv('entertainment.csv')\n",
        "investment=pd.read_csv('investment.csv')\n",
        "shopping=pd.read_csv('shopping.csv')\n",
        "grocery=pd.read_csv('grocery.csv')\n",
        "transport=pd.read_csv('transport.csv')\n",
        "other=pd.read_csv('others.csv')\n",
        "home=pd.read_csv('home.csv')"
      ],
      "execution_count": 37,
      "outputs": []
    },
    {
      "cell_type": "code",
      "metadata": {
        "id": "ES8_PZNyVBfz",
        "colab": {
          "base_uri": "https://localhost:8080/",
          "height": 350
        },
        "outputId": "bf593fe7-3f7c-4450-bc8d-b56612eb1b21"
      },
      "source": [
        "entertainment['Date']= pd.to_datetime(entertainment.Date)\n",
        "investment['Date']=pd.to_datetime(investment.Date)\n",
        "shopping['Date']=pd.to_datetime(shopping.Date)\n",
        "grocery['Date']=pd.to_datetime(grocery.Date)\n",
        "transport['Date']=pd.to_datetime(transport.Date)\n",
        "other['Date']=pd.to_datetime(other.Date)\n",
        "home['Date']=pd.to_datetime(home.Date)\n"
      ],
      "execution_count": 38,
      "outputs": [
        {
          "output_type": "error",
          "ename": "AttributeError",
          "evalue": "ignored",
          "traceback": [
            "\u001b[0;31m---------------------------------------------------------------------------\u001b[0m",
            "\u001b[0;31mAttributeError\u001b[0m                            Traceback (most recent call last)",
            "\u001b[0;32m<ipython-input-38-8faa0768f631>\u001b[0m in \u001b[0;36m<module>\u001b[0;34m()\u001b[0m\n\u001b[0;32m----> 1\u001b[0;31m \u001b[0mentertainment\u001b[0m\u001b[0;34m[\u001b[0m\u001b[0;34m'Date'\u001b[0m\u001b[0;34m]\u001b[0m\u001b[0;34m=\u001b[0m \u001b[0mpd\u001b[0m\u001b[0;34m.\u001b[0m\u001b[0mto_datetime\u001b[0m\u001b[0;34m(\u001b[0m\u001b[0mentertainment\u001b[0m\u001b[0;34m.\u001b[0m\u001b[0mDate\u001b[0m\u001b[0;34m)\u001b[0m\u001b[0;34m\u001b[0m\u001b[0;34m\u001b[0m\u001b[0m\n\u001b[0m\u001b[1;32m      2\u001b[0m \u001b[0;31m# investment['Date']=pd.to_datetime(investment.Date)\u001b[0m\u001b[0;34m\u001b[0m\u001b[0;34m\u001b[0m\u001b[0;34m\u001b[0m\u001b[0m\n\u001b[1;32m      3\u001b[0m \u001b[0;31m# shopping['Date']=pd.to_datetime(shopping.Date)\u001b[0m\u001b[0;34m\u001b[0m\u001b[0;34m\u001b[0m\u001b[0;34m\u001b[0m\u001b[0m\n\u001b[1;32m      4\u001b[0m \u001b[0;31m# grocery['Date']=pd.to_datetime(grocery.Date)\u001b[0m\u001b[0;34m\u001b[0m\u001b[0;34m\u001b[0m\u001b[0;34m\u001b[0m\u001b[0m\n\u001b[1;32m      5\u001b[0m \u001b[0;31m# transport['Date']=pd.to_datetime(transport.Date)\u001b[0m\u001b[0;34m\u001b[0m\u001b[0;34m\u001b[0m\u001b[0;34m\u001b[0m\u001b[0m\n",
            "\u001b[0;32m/usr/local/lib/python3.7/dist-packages/pandas/core/generic.py\u001b[0m in \u001b[0;36m__getattr__\u001b[0;34m(self, name)\u001b[0m\n\u001b[1;32m   5139\u001b[0m             \u001b[0;32mif\u001b[0m \u001b[0mself\u001b[0m\u001b[0;34m.\u001b[0m\u001b[0m_info_axis\u001b[0m\u001b[0;34m.\u001b[0m\u001b[0m_can_hold_identifiers_and_holds_name\u001b[0m\u001b[0;34m(\u001b[0m\u001b[0mname\u001b[0m\u001b[0;34m)\u001b[0m\u001b[0;34m:\u001b[0m\u001b[0;34m\u001b[0m\u001b[0;34m\u001b[0m\u001b[0m\n\u001b[1;32m   5140\u001b[0m                 \u001b[0;32mreturn\u001b[0m \u001b[0mself\u001b[0m\u001b[0;34m[\u001b[0m\u001b[0mname\u001b[0m\u001b[0;34m]\u001b[0m\u001b[0;34m\u001b[0m\u001b[0;34m\u001b[0m\u001b[0m\n\u001b[0;32m-> 5141\u001b[0;31m             \u001b[0;32mreturn\u001b[0m \u001b[0mobject\u001b[0m\u001b[0;34m.\u001b[0m\u001b[0m__getattribute__\u001b[0m\u001b[0;34m(\u001b[0m\u001b[0mself\u001b[0m\u001b[0;34m,\u001b[0m \u001b[0mname\u001b[0m\u001b[0;34m)\u001b[0m\u001b[0;34m\u001b[0m\u001b[0;34m\u001b[0m\u001b[0m\n\u001b[0m\u001b[1;32m   5142\u001b[0m \u001b[0;34m\u001b[0m\u001b[0m\n\u001b[1;32m   5143\u001b[0m     \u001b[0;32mdef\u001b[0m \u001b[0m__setattr__\u001b[0m\u001b[0;34m(\u001b[0m\u001b[0mself\u001b[0m\u001b[0;34m,\u001b[0m \u001b[0mname\u001b[0m\u001b[0;34m:\u001b[0m \u001b[0mstr\u001b[0m\u001b[0;34m,\u001b[0m \u001b[0mvalue\u001b[0m\u001b[0;34m)\u001b[0m \u001b[0;34m->\u001b[0m \u001b[0;32mNone\u001b[0m\u001b[0;34m:\u001b[0m\u001b[0;34m\u001b[0m\u001b[0;34m\u001b[0m\u001b[0m\n",
            "\u001b[0;31mAttributeError\u001b[0m: 'DataFrame' object has no attribute 'Date'"
          ]
        }
      ]
    },
    {
      "cell_type": "code",
      "metadata": {
        "id": "n4tgUSIpVBfz",
        "colab": {
          "base_uri": "https://localhost:8080/",
          "height": 49
        },
        "outputId": "62f76004-61d3-49e0-c641-7308348766ad"
      },
      "source": [
        "#question3\n",
        "entertainment.head()"
      ],
      "execution_count": 39,
      "outputs": [
        {
          "output_type": "execute_result",
          "data": {
            "text/html": [
              "<div>\n",
              "<style scoped>\n",
              "    .dataframe tbody tr th:only-of-type {\n",
              "        vertical-align: middle;\n",
              "    }\n",
              "\n",
              "    .dataframe tbody tr th {\n",
              "        vertical-align: top;\n",
              "    }\n",
              "\n",
              "    .dataframe thead th {\n",
              "        text-align: right;\n",
              "    }\n",
              "</style>\n",
              "<table border=\"1\" class=\"dataframe\">\n",
              "  <thead>\n",
              "    <tr style=\"text-align: right;\">\n",
              "      <th></th>\n",
              "      <th>date</th>\n",
              "      <th>organisation</th>\n",
              "      <th>amount</th>\n",
              "    </tr>\n",
              "  </thead>\n",
              "  <tbody>\n",
              "  </tbody>\n",
              "</table>\n",
              "</div>"
            ],
            "text/plain": [
              "Empty DataFrame\n",
              "Columns: [date, organisation, amount]\n",
              "Index: []"
            ]
          },
          "metadata": {
            "tags": []
          },
          "execution_count": 39
        }
      ]
    },
    {
      "cell_type": "code",
      "metadata": {
        "id": "khQnBcHoVBfz",
        "outputId": "4b1c54f6-4c61-4aaa-a19d-dd3e1005b139"
      },
      "source": [
        "investment.head()"
      ],
      "execution_count": null,
      "outputs": [
        {
          "output_type": "execute_result",
          "data": {
            "text/html": [
              "<div>\n",
              "<style scoped>\n",
              "    .dataframe tbody tr th:only-of-type {\n",
              "        vertical-align: middle;\n",
              "    }\n",
              "\n",
              "    .dataframe tbody tr th {\n",
              "        vertical-align: top;\n",
              "    }\n",
              "\n",
              "    .dataframe thead th {\n",
              "        text-align: right;\n",
              "    }\n",
              "</style>\n",
              "<table border=\"1\" class=\"dataframe\">\n",
              "  <thead>\n",
              "    <tr style=\"text-align: right;\">\n",
              "      <th></th>\n",
              "      <th>Date</th>\n",
              "      <th>organisation</th>\n",
              "      <th>amount</th>\n",
              "    </tr>\n",
              "  </thead>\n",
              "  <tbody>\n",
              "    <tr>\n",
              "      <th>0</th>\n",
              "      <td>2015-11-08</td>\n",
              "      <td>shriram transport finance company limited</td>\n",
              "      <td>25000</td>\n",
              "    </tr>\n",
              "  </tbody>\n",
              "</table>\n",
              "</div>"
            ],
            "text/plain": [
              "        Date                               organisation  amount\n",
              "0 2015-11-08  shriram transport finance company limited   25000"
            ]
          },
          "metadata": {
            "tags": []
          },
          "execution_count": 23
        }
      ]
    },
    {
      "cell_type": "code",
      "metadata": {
        "id": "wNZr200qVBf0",
        "outputId": "56665c23-6045-4cc8-845e-845d0e0358d6"
      },
      "source": [
        "shopping.head()"
      ],
      "execution_count": null,
      "outputs": [
        {
          "output_type": "execute_result",
          "data": {
            "text/html": [
              "<div>\n",
              "<style scoped>\n",
              "    .dataframe tbody tr th:only-of-type {\n",
              "        vertical-align: middle;\n",
              "    }\n",
              "\n",
              "    .dataframe tbody tr th {\n",
              "        vertical-align: top;\n",
              "    }\n",
              "\n",
              "    .dataframe thead th {\n",
              "        text-align: right;\n",
              "    }\n",
              "</style>\n",
              "<table border=\"1\" class=\"dataframe\">\n",
              "  <thead>\n",
              "    <tr style=\"text-align: right;\">\n",
              "      <th></th>\n",
              "      <th>Date</th>\n",
              "      <th>organisation</th>\n",
              "      <th>amount</th>\n",
              "    </tr>\n",
              "  </thead>\n",
              "  <tbody>\n",
              "    <tr>\n",
              "      <th>0</th>\n",
              "      <td>2019-01-27</td>\n",
              "      <td>gauri garments</td>\n",
              "      <td>2400</td>\n",
              "    </tr>\n",
              "    <tr>\n",
              "      <th>1</th>\n",
              "      <td>2018-02-19</td>\n",
              "      <td>thakur</td>\n",
              "      <td>3000</td>\n",
              "    </tr>\n",
              "    <tr>\n",
              "      <th>2</th>\n",
              "      <td>2019-06-20</td>\n",
              "      <td>paytm</td>\n",
              "      <td>507</td>\n",
              "    </tr>\n",
              "    <tr>\n",
              "      <th>3</th>\n",
              "      <td>2020-01-27</td>\n",
              "      <td>max</td>\n",
              "      <td>500</td>\n",
              "    </tr>\n",
              "    <tr>\n",
              "      <th>4</th>\n",
              "      <td>2019-02-19</td>\n",
              "      <td>pantaloons</td>\n",
              "      <td>700</td>\n",
              "    </tr>\n",
              "  </tbody>\n",
              "</table>\n",
              "</div>"
            ],
            "text/plain": [
              "        Date    organisation  amount\n",
              "0 2019-01-27  gauri garments    2400\n",
              "1 2018-02-19          thakur    3000\n",
              "2 2019-06-20           paytm     507\n",
              "3 2020-01-27             max     500\n",
              "4 2019-02-19      pantaloons     700"
            ]
          },
          "metadata": {
            "tags": []
          },
          "execution_count": 24
        }
      ]
    },
    {
      "cell_type": "code",
      "metadata": {
        "id": "pVEjkUChVBf0",
        "outputId": "8dc450b8-e707-45b0-c270-2787b3196483"
      },
      "source": [
        "grocery.head()"
      ],
      "execution_count": null,
      "outputs": [
        {
          "output_type": "execute_result",
          "data": {
            "text/html": [
              "<div>\n",
              "<style scoped>\n",
              "    .dataframe tbody tr th:only-of-type {\n",
              "        vertical-align: middle;\n",
              "    }\n",
              "\n",
              "    .dataframe tbody tr th {\n",
              "        vertical-align: top;\n",
              "    }\n",
              "\n",
              "    .dataframe thead th {\n",
              "        text-align: right;\n",
              "    }\n",
              "</style>\n",
              "<table border=\"1\" class=\"dataframe\">\n",
              "  <thead>\n",
              "    <tr style=\"text-align: right;\">\n",
              "      <th></th>\n",
              "      <th>Date</th>\n",
              "      <th>organisation</th>\n",
              "      <th>amount</th>\n",
              "    </tr>\n",
              "  </thead>\n",
              "  <tbody>\n",
              "    <tr>\n",
              "      <th>0</th>\n",
              "      <td>2020-10-02</td>\n",
              "      <td>dmart</td>\n",
              "      <td>1500</td>\n",
              "    </tr>\n",
              "    <tr>\n",
              "      <th>1</th>\n",
              "      <td>2020-03-15</td>\n",
              "      <td>hind</td>\n",
              "      <td>500</td>\n",
              "    </tr>\n",
              "    <tr>\n",
              "      <th>2</th>\n",
              "      <td>2020-01-14</td>\n",
              "      <td>osia</td>\n",
              "      <td>1500</td>\n",
              "    </tr>\n",
              "    <tr>\n",
              "      <th>3</th>\n",
              "      <td>2019-09-15</td>\n",
              "      <td>osia</td>\n",
              "      <td>700</td>\n",
              "    </tr>\n",
              "    <tr>\n",
              "      <th>4</th>\n",
              "      <td>2020-01-20</td>\n",
              "      <td>bigbasket</td>\n",
              "      <td>400</td>\n",
              "    </tr>\n",
              "  </tbody>\n",
              "</table>\n",
              "</div>"
            ],
            "text/plain": [
              "        Date organisation  amount\n",
              "0 2020-10-02        dmart    1500\n",
              "1 2020-03-15         hind     500\n",
              "2 2020-01-14         osia    1500\n",
              "3 2019-09-15         osia     700\n",
              "4 2020-01-20    bigbasket     400"
            ]
          },
          "metadata": {
            "tags": []
          },
          "execution_count": 25
        }
      ]
    },
    {
      "cell_type": "code",
      "metadata": {
        "id": "LGOswOpPVBf1",
        "outputId": "a280fe98-af79-4bd5-8712-cbd41120f50b"
      },
      "source": [
        "transport.head()"
      ],
      "execution_count": null,
      "outputs": [
        {
          "output_type": "execute_result",
          "data": {
            "text/html": [
              "<div>\n",
              "<style scoped>\n",
              "    .dataframe tbody tr th:only-of-type {\n",
              "        vertical-align: middle;\n",
              "    }\n",
              "\n",
              "    .dataframe tbody tr th {\n",
              "        vertical-align: top;\n",
              "    }\n",
              "\n",
              "    .dataframe thead th {\n",
              "        text-align: right;\n",
              "    }\n",
              "</style>\n",
              "<table border=\"1\" class=\"dataframe\">\n",
              "  <thead>\n",
              "    <tr style=\"text-align: right;\">\n",
              "      <th></th>\n",
              "      <th>Date</th>\n",
              "      <th>organisation</th>\n",
              "      <th>amount</th>\n",
              "    </tr>\n",
              "  </thead>\n",
              "  <tbody>\n",
              "    <tr>\n",
              "      <th>0</th>\n",
              "      <td>2019-08-13</td>\n",
              "      <td>ola</td>\n",
              "      <td>200</td>\n",
              "    </tr>\n",
              "    <tr>\n",
              "      <th>1</th>\n",
              "      <td>2019-08-15</td>\n",
              "      <td>ola</td>\n",
              "      <td>150</td>\n",
              "    </tr>\n",
              "    <tr>\n",
              "      <th>2</th>\n",
              "      <td>2019-08-16</td>\n",
              "      <td>uber</td>\n",
              "      <td>60</td>\n",
              "    </tr>\n",
              "    <tr>\n",
              "      <th>3</th>\n",
              "      <td>2018-01-01</td>\n",
              "      <td>dipam motors</td>\n",
              "      <td>1000</td>\n",
              "    </tr>\n",
              "    <tr>\n",
              "      <th>4</th>\n",
              "      <td>2020-03-03</td>\n",
              "      <td>honda</td>\n",
              "      <td>5000</td>\n",
              "    </tr>\n",
              "  </tbody>\n",
              "</table>\n",
              "</div>"
            ],
            "text/plain": [
              "        Date  organisation  amount\n",
              "0 2019-08-13           ola     200\n",
              "1 2019-08-15           ola     150\n",
              "2 2019-08-16          uber      60\n",
              "3 2018-01-01  dipam motors    1000\n",
              "4 2020-03-03         honda    5000"
            ]
          },
          "metadata": {
            "tags": []
          },
          "execution_count": 26
        }
      ]
    },
    {
      "cell_type": "code",
      "metadata": {
        "id": "Xx-Wu8-DVBf1",
        "outputId": "0c871476-2e2e-4564-c2ac-df767ea5dd5e"
      },
      "source": [
        "other.head()"
      ],
      "execution_count": null,
      "outputs": [
        {
          "output_type": "execute_result",
          "data": {
            "text/html": [
              "<div>\n",
              "<style scoped>\n",
              "    .dataframe tbody tr th:only-of-type {\n",
              "        vertical-align: middle;\n",
              "    }\n",
              "\n",
              "    .dataframe tbody tr th {\n",
              "        vertical-align: top;\n",
              "    }\n",
              "\n",
              "    .dataframe thead th {\n",
              "        text-align: right;\n",
              "    }\n",
              "</style>\n",
              "<table border=\"1\" class=\"dataframe\">\n",
              "  <thead>\n",
              "    <tr style=\"text-align: right;\">\n",
              "      <th></th>\n",
              "      <th>Date</th>\n",
              "      <th>organisation</th>\n",
              "      <th>amount</th>\n",
              "    </tr>\n",
              "  </thead>\n",
              "  <tbody>\n",
              "    <tr>\n",
              "      <th>0</th>\n",
              "      <td>2020-01-13</td>\n",
              "      <td>vision</td>\n",
              "      <td>1500</td>\n",
              "    </tr>\n",
              "    <tr>\n",
              "      <th>1</th>\n",
              "      <td>2019-02-15</td>\n",
              "      <td>new era</td>\n",
              "      <td>500</td>\n",
              "    </tr>\n",
              "    <tr>\n",
              "      <th>2</th>\n",
              "      <td>2019-12-25</td>\n",
              "      <td>yukti</td>\n",
              "      <td>1200</td>\n",
              "    </tr>\n",
              "  </tbody>\n",
              "</table>\n",
              "</div>"
            ],
            "text/plain": [
              "        Date organisation  amount\n",
              "0 2020-01-13       vision    1500\n",
              "1 2019-02-15      new era     500\n",
              "2 2019-12-25        yukti    1200"
            ]
          },
          "metadata": {
            "tags": []
          },
          "execution_count": 27
        }
      ]
    },
    {
      "cell_type": "code",
      "metadata": {
        "id": "q35NZMePVBf2",
        "outputId": "817bb2c1-8648-408e-a411-2df4d24b8a4c"
      },
      "source": [
        "#lets do some statistics\n",
        "entertainment.shape\n",
        "#3->columns 11->rows\n",
        "#similarliy do for others"
      ],
      "execution_count": null,
      "outputs": [
        {
          "output_type": "execute_result",
          "data": {
            "text/plain": [
              "(11, 3)"
            ]
          },
          "metadata": {
            "tags": []
          },
          "execution_count": 33
        }
      ]
    },
    {
      "cell_type": "code",
      "metadata": {
        "id": "45ELO-IIVBf2",
        "outputId": "60cd0398-9a47-4cf5-bf13-6902c93bdb09"
      },
      "source": [
        "#getting statistical info\n",
        "entertainment.describe()"
      ],
      "execution_count": null,
      "outputs": [
        {
          "output_type": "execute_result",
          "data": {
            "text/html": [
              "<div>\n",
              "<style scoped>\n",
              "    .dataframe tbody tr th:only-of-type {\n",
              "        vertical-align: middle;\n",
              "    }\n",
              "\n",
              "    .dataframe tbody tr th {\n",
              "        vertical-align: top;\n",
              "    }\n",
              "\n",
              "    .dataframe thead th {\n",
              "        text-align: right;\n",
              "    }\n",
              "</style>\n",
              "<table border=\"1\" class=\"dataframe\">\n",
              "  <thead>\n",
              "    <tr style=\"text-align: right;\">\n",
              "      <th></th>\n",
              "      <th>amount</th>\n",
              "    </tr>\n",
              "  </thead>\n",
              "  <tbody>\n",
              "    <tr>\n",
              "      <th>count</th>\n",
              "      <td>11.000000</td>\n",
              "    </tr>\n",
              "    <tr>\n",
              "      <th>mean</th>\n",
              "      <td>1267.780909</td>\n",
              "    </tr>\n",
              "    <tr>\n",
              "      <th>std</th>\n",
              "      <td>2254.159505</td>\n",
              "    </tr>\n",
              "    <tr>\n",
              "      <th>min</th>\n",
              "      <td>12.590000</td>\n",
              "    </tr>\n",
              "    <tr>\n",
              "      <th>25%</th>\n",
              "      <td>195.000000</td>\n",
              "    </tr>\n",
              "    <tr>\n",
              "      <th>50%</th>\n",
              "      <td>400.000000</td>\n",
              "    </tr>\n",
              "    <tr>\n",
              "      <th>75%</th>\n",
              "      <td>750.000000</td>\n",
              "    </tr>\n",
              "    <tr>\n",
              "      <th>max</th>\n",
              "      <td>7346.000000</td>\n",
              "    </tr>\n",
              "  </tbody>\n",
              "</table>\n",
              "</div>"
            ],
            "text/plain": [
              "            amount\n",
              "count    11.000000\n",
              "mean   1267.780909\n",
              "std    2254.159505\n",
              "min      12.590000\n",
              "25%     195.000000\n",
              "50%     400.000000\n",
              "75%     750.000000\n",
              "max    7346.000000"
            ]
          },
          "metadata": {
            "tags": []
          },
          "execution_count": 34
        }
      ]
    },
    {
      "cell_type": "code",
      "metadata": {
        "id": "xZl9VOTwVBf2",
        "outputId": "15466d66-ed6c-4476-a2bd-d913da891c09"
      },
      "source": [
        "#oh my 7346 is too much,lets see where have i used this amount\n",
        "entertainment[entertainment['amount']==entertainment['amount'].max()]\n",
        "#dubai trip was awesome!!!:)\n"
      ],
      "execution_count": null,
      "outputs": [
        {
          "output_type": "execute_result",
          "data": {
            "text/html": [
              "<div>\n",
              "<style scoped>\n",
              "    .dataframe tbody tr th:only-of-type {\n",
              "        vertical-align: middle;\n",
              "    }\n",
              "\n",
              "    .dataframe tbody tr th {\n",
              "        vertical-align: top;\n",
              "    }\n",
              "\n",
              "    .dataframe thead th {\n",
              "        text-align: right;\n",
              "    }\n",
              "</style>\n",
              "<table border=\"1\" class=\"dataframe\">\n",
              "  <thead>\n",
              "    <tr style=\"text-align: right;\">\n",
              "      <th></th>\n",
              "      <th>Date</th>\n",
              "      <th>organisation</th>\n",
              "      <th>amount</th>\n",
              "    </tr>\n",
              "  </thead>\n",
              "  <tbody>\n",
              "    <tr>\n",
              "      <th>5</th>\n",
              "      <td>2019-10-10</td>\n",
              "      <td>burj khalifa</td>\n",
              "      <td>7346.0</td>\n",
              "    </tr>\n",
              "  </tbody>\n",
              "</table>\n",
              "</div>"
            ],
            "text/plain": [
              "        Date  organisation  amount\n",
              "5 2019-10-10  burj khalifa  7346.0"
            ]
          },
          "metadata": {
            "tags": []
          },
          "execution_count": 35
        }
      ]
    },
    {
      "cell_type": "code",
      "metadata": {
        "id": "XkIoTMxLVBf2",
        "outputId": "ad7260fc-6628-41df-86ef-02c1755f7354"
      },
      "source": [
        "#lets check the data type of the data set -entertainment\n",
        "entertainment.dtypes\n",
        "#everything looks fine\n"
      ],
      "execution_count": null,
      "outputs": [
        {
          "output_type": "execute_result",
          "data": {
            "text/plain": [
              "Date             object\n",
              "organisation     object\n",
              "amount          float64\n",
              "dtype: object"
            ]
          },
          "metadata": {
            "tags": []
          },
          "execution_count": 36
        }
      ]
    },
    {
      "cell_type": "code",
      "metadata": {
        "id": "OKIH5tX0VBf3",
        "outputId": "ea757fe9-fac7-40c9-9c44-56e21dbab66a"
      },
      "source": [
        "#now lets check for missing values\n",
        "entertainment.isnull().any()\n",
        "#woo hooo there are no missing values\n",
        "#if True was displayed then we would have to use some pandas function to get rid of that\n",
        "#eg df.dropna() or .fillna() etc.."
      ],
      "execution_count": null,
      "outputs": [
        {
          "output_type": "execute_result",
          "data": {
            "text/plain": [
              "Date            False\n",
              "organisation    False\n",
              "amount          False\n",
              "dtype: bool"
            ]
          },
          "metadata": {
            "tags": []
          },
          "execution_count": 37
        }
      ]
    },
    {
      "cell_type": "code",
      "metadata": {
        "id": "bHOu0WkhVBf3",
        "outputId": "56415941-11f5-422c-ccfb-6eab2218f878"
      },
      "source": [
        "#lets check for other data frames as well\n",
        "investment.isnull().any()"
      ],
      "execution_count": null,
      "outputs": [
        {
          "output_type": "execute_result",
          "data": {
            "text/plain": [
              "Date            False\n",
              "organisation    False\n",
              "amount          False\n",
              "dtype: bool"
            ]
          },
          "metadata": {
            "tags": []
          },
          "execution_count": 38
        }
      ]
    },
    {
      "cell_type": "code",
      "metadata": {
        "id": "p-bHbjhFVBf3",
        "outputId": "e052703f-1d85-4bd1-a835-7cca22fb24aa"
      },
      "source": [
        "shopping.isnull()"
      ],
      "execution_count": null,
      "outputs": [
        {
          "output_type": "execute_result",
          "data": {
            "text/html": [
              "<div>\n",
              "<style scoped>\n",
              "    .dataframe tbody tr th:only-of-type {\n",
              "        vertical-align: middle;\n",
              "    }\n",
              "\n",
              "    .dataframe tbody tr th {\n",
              "        vertical-align: top;\n",
              "    }\n",
              "\n",
              "    .dataframe thead th {\n",
              "        text-align: right;\n",
              "    }\n",
              "</style>\n",
              "<table border=\"1\" class=\"dataframe\">\n",
              "  <thead>\n",
              "    <tr style=\"text-align: right;\">\n",
              "      <th></th>\n",
              "      <th>Date</th>\n",
              "      <th>organisation</th>\n",
              "      <th>amount</th>\n",
              "    </tr>\n",
              "  </thead>\n",
              "  <tbody>\n",
              "    <tr>\n",
              "      <th>0</th>\n",
              "      <td>False</td>\n",
              "      <td>False</td>\n",
              "      <td>False</td>\n",
              "    </tr>\n",
              "    <tr>\n",
              "      <th>1</th>\n",
              "      <td>False</td>\n",
              "      <td>False</td>\n",
              "      <td>False</td>\n",
              "    </tr>\n",
              "    <tr>\n",
              "      <th>2</th>\n",
              "      <td>False</td>\n",
              "      <td>False</td>\n",
              "      <td>False</td>\n",
              "    </tr>\n",
              "    <tr>\n",
              "      <th>3</th>\n",
              "      <td>False</td>\n",
              "      <td>False</td>\n",
              "      <td>False</td>\n",
              "    </tr>\n",
              "    <tr>\n",
              "      <th>4</th>\n",
              "      <td>False</td>\n",
              "      <td>False</td>\n",
              "      <td>False</td>\n",
              "    </tr>\n",
              "    <tr>\n",
              "      <th>5</th>\n",
              "      <td>False</td>\n",
              "      <td>False</td>\n",
              "      <td>False</td>\n",
              "    </tr>\n",
              "    <tr>\n",
              "      <th>6</th>\n",
              "      <td>False</td>\n",
              "      <td>False</td>\n",
              "      <td>False</td>\n",
              "    </tr>\n",
              "  </tbody>\n",
              "</table>\n",
              "</div>"
            ],
            "text/plain": [
              "    Date  organisation  amount\n",
              "0  False         False   False\n",
              "1  False         False   False\n",
              "2  False         False   False\n",
              "3  False         False   False\n",
              "4  False         False   False\n",
              "5  False         False   False\n",
              "6  False         False   False"
            ]
          },
          "metadata": {
            "tags": []
          },
          "execution_count": 39
        }
      ]
    },
    {
      "cell_type": "code",
      "metadata": {
        "collapsed": true,
        "jupyter": {
          "outputs_hidden": true
        },
        "id": "PE_VCybIVBf3",
        "outputId": "d493b19c-b27d-47f6-8706-ceb0c2d224d8"
      },
      "source": [
        "#similary we can check for the other category\n",
        "grocery.isnull().any()\n",
        "transport.isnull().any()\n",
        "other.isnull().any()\n",
        "home.isnull().any()"
      ],
      "execution_count": null,
      "outputs": [
        {
          "output_type": "execute_result",
          "data": {
            "text/plain": [
              "Date            False\n",
              "organisation    False\n",
              "amount          False\n",
              "dtype: bool"
            ]
          },
          "metadata": {
            "tags": []
          },
          "execution_count": 40
        }
      ]
    },
    {
      "cell_type": "code",
      "metadata": {
        "id": "mGg6mFScVBf3",
        "outputId": "aa177d37-0b58-4b96-d34f-840bb622625b"
      },
      "source": [
        "#since everything looks fine we will move to the next important step \n",
        "#DATA ANALYSIS\n",
        "plt.figure(figsize=(24,5))\n",
        "plt.bar(entertainment['organisation'],entertainment['amount'])"
      ],
      "execution_count": null,
      "outputs": [
        {
          "output_type": "execute_result",
          "data": {
            "text/plain": [
              "<BarContainer object of 11 artists>"
            ]
          },
          "metadata": {
            "tags": []
          },
          "execution_count": 64
        },
        {
          "output_type": "display_data",
          "data": {
            "image/png": "[encoded data removed]",
            "text/plain": [
              "<Figure size 1728x360 with 1 Axes>"
            ]
          },
          "metadata": {
            "tags": [],
            "needs_background": "light"
          }
        }
      ]
    },
    {
      "cell_type": "code",
      "metadata": {
        "id": "gRU3w198VBf6",
        "outputId": "d8dca1f5-afdd-4eb1-e26a-083b368eb204"
      },
      "source": [
        "#lets make it more readble and analyzable\n",
        "entertainment.plot(x='organisation',y='amount',kind='barh',title='entertainment expenditure')"
      ],
      "execution_count": null,
      "outputs": [
        {
          "output_type": "execute_result",
          "data": {
            "text/plain": [
              "<matplotlib.axes._subplots.AxesSubplot at 0x1ffc5d60978>"
            ]
          },
          "metadata": {
            "tags": []
          },
          "execution_count": 29
        },
        {
          "output_type": "display_data",
          "data": {
            "image/png": "[encoded data removed]",
            "text/plain": [
              "<Figure size 432x288 with 1 Axes>"
            ]
          },
          "metadata": {
            "tags": [],
            "needs_background": "light"
          }
        }
      ]
    },
    {
      "cell_type": "code",
      "metadata": {
        "id": "2andHrLqVBf8",
        "outputId": "cfbdc1a9-0e3a-48a2-a60c-dfc96c53a202"
      },
      "source": [
        "#its time to make pie chart\n",
        "#here i will make pie chart using three ways just to see which one fits the best\n",
        "labels=[]\n",
        "for i in entertainment['organisation']:\n",
        "    labels.append(i)  \n",
        "amount=[]\n",
        "for i in entertainment['amount']:\n",
        "    amount.append(i)\n",
        "plt.pie(amount, labels=labels, autopct='%1.1f%%',\n",
        "        shadow=True, startangle=90)\n",
        "\n",
        "plt.axis('equal')  \n",
        "plt.tight_layout()\n",
        "#entertainment.plot(x='organisation',y='amount',kind='barh',title='entertainment expenditure')\n",
        "plt.show()"
      ],
      "execution_count": null,
      "outputs": [
        {
          "output_type": "display_data",
          "data": {
            "image/png": "[encoded data removed]",
            "text/plain": [
              "<Figure size 432x288 with 1 Axes>"
            ]
          },
          "metadata": {
            "tags": []
          }
        }
      ]
    },
    {
      "cell_type": "code",
      "metadata": {
        "id": "jsHnu_9eVBf8",
        "outputId": "7b0b15e3-3e76-491d-8a70-02b8556ff793"
      },
      "source": [
        "#yucks this plot is too messy\n",
        "#lets try other way\n",
        "#this is donut plot\n",
        "# create a figure and set different background\n",
        "fig = plt.figure()\n",
        "fig.patch.set_facecolor('#B7AC9C')\n",
        "# Change color of text and make a circle\n",
        "plt.rcParams['text.color'] = 'black'\n",
        "my_circle=plt.Circle( (0,0), 0.6,color='#B7AC9C' )\n",
        "# Pieplot + circle on it\n",
        "plt.pie(amount, labels=labels)\n",
        "p=plt.gcf()\n",
        "p.gca().add_artist(my_circle)\n",
        "plt.show()"
      ],
      "execution_count": null,
      "outputs": [
        {
          "output_type": "display_data",
          "data": {
            "image/png": "[encoded data removed]",
            "text/plain": [
              "<Figure size 432x288 with 1 Axes>"
            ]
          },
          "metadata": {
            "tags": []
          }
        }
      ]
    },
    {
      "cell_type": "code",
      "metadata": {
        "id": "zbckUzjqVBf8",
        "outputId": "48527b08-68ee-488a-dee0-864197c5aa18"
      },
      "source": [
        "#this seems nice\n",
        "#lets do this for other category as well\n",
        "#similarly we will look at grocery and shopping\n",
        "#colors = [\"#1f77b4\", \"#ff7f0e\", \"#2ca02c\", \"#d62728\", \"#8c564b\",\"#B7AC9C\"]\n",
        "plt.subplot(221)\n",
        "plt.pie(grocery['amount'], labels=grocery['organisation'], \n",
        "autopct='%1.1f%%', shadow=True, startangle=140,)\n",
        "plt.title(\"grocery expenditure\")\n",
        "plt.subplot(222)\n",
        "plt.pie(shopping['amount'], labels=shopping['organisation'], \n",
        "autopct='%1.1f%%', shadow=True, startangle=140)\n",
        "plt.title(\"shopping expenditure\")\n",
        "plt.subplot(223)\n",
        "plt.pie(home['amount'], labels=home['organisation'], \n",
        "autopct='%1.1f%%', shadow=True, startangle=140)\n",
        "plt.title(\"home expenditure\")\n",
        "plt.subplot(224)\n",
        "plt.pie(transport['amount'], labels=transport['organisation'], \n",
        "autopct='%1.1f%%', shadow=True, startangle=0)\n",
        "plt.title(\"transport expenditure\")\n",
        "#plt.legend(labels)\n",
        "plt.show()\n",
        "plt.pie(other['amount'], labels=other['organisation'], autopct='%1.1f%%', shadow=True, startangle=0)\n",
        "plt.title(\"other expenditure\")\n",
        "plt.show()\n",
        "plt.pie(investment['amount'], labels=investment['organisation'], autopct='%1.1f%%', shadow=True, startangle=0)\n",
        "plt.title(\"investment expenditure\")\n",
        "plt.show()"
      ],
      "execution_count": null,
      "outputs": [
        {
          "output_type": "display_data",
          "data": {
            "image/png": "[encoded data removed]",
            "text/plain": [
              "<Figure size 432x288 with 4 Axes>"
            ]
          },
          "metadata": {
            "tags": []
          }
        },
        {
          "output_type": "display_data",
          "data": {
            "image/png": "[encoded data removed]",
            "text/plain": [
              "<Figure size 432x288 with 1 Axes>"
            ]
          },
          "metadata": {
            "tags": []
          }
        },
        {
          "output_type": "display_data",
          "data": {
            "image/png": "[encoded data removed]",
            "text/plain": [
              "<Figure size 432x288 with 1 Axes>"
            ]
          },
          "metadata": {
            "tags": []
          }
        }
      ]
    },
    {
      "cell_type": "code",
      "metadata": {
        "id": "CpvPfFXfVBf9"
      },
      "source": [
        "#lets merge all the expenditure and save it to other csv\n",
        "category=['entertainment','investment','shopping','grocery','transport','home','others']\n",
        "#lets sum all the expenditure category wise\n",
        "total_entertainment=entertainment['amount'].sum()\n",
        "total_investment=investment['amount'].sum()\n",
        "total_shopping=shopping['amount'].sum()\n",
        "total_grocery=grocery['amount'].sum()\n",
        "total_transport=transport['amount'].sum()\n",
        "total_home=home['amount'].sum()\n",
        "total_others=other['amount'].sum()\n",
        "amount=[total_entertainment,total_investment,total_shopping,total_grocery,total_transport,total_home,total_others]"
      ],
      "execution_count": null,
      "outputs": []
    },
    {
      "cell_type": "code",
      "metadata": {
        "id": "6NbXO-seVBf9"
      },
      "source": [
        "data={'category':category,'total':amount}"
      ],
      "execution_count": null,
      "outputs": []
    },
    {
      "cell_type": "code",
      "metadata": {
        "id": "VKZALZVLVBf9"
      },
      "source": [
        "#here we created a new table which shows the total expenditure of all the category\n",
        "df = pd.DataFrame(data) "
      ],
      "execution_count": null,
      "outputs": []
    },
    {
      "cell_type": "code",
      "metadata": {
        "id": "_-WoKQyRVBf9",
        "outputId": "d560f8c1-c63d-468a-a2d6-ea2b7e8e5b0e"
      },
      "source": [
        "df.head(10)"
      ],
      "execution_count": null,
      "outputs": [
        {
          "output_type": "execute_result",
          "data": {
            "text/html": [
              "<div>\n",
              "<style scoped>\n",
              "    .dataframe tbody tr th:only-of-type {\n",
              "        vertical-align: middle;\n",
              "    }\n",
              "\n",
              "    .dataframe tbody tr th {\n",
              "        vertical-align: top;\n",
              "    }\n",
              "\n",
              "    .dataframe thead th {\n",
              "        text-align: right;\n",
              "    }\n",
              "</style>\n",
              "<table border=\"1\" class=\"dataframe\">\n",
              "  <thead>\n",
              "    <tr style=\"text-align: right;\">\n",
              "      <th></th>\n",
              "      <th>category</th>\n",
              "      <th>total</th>\n",
              "    </tr>\n",
              "  </thead>\n",
              "  <tbody>\n",
              "    <tr>\n",
              "      <th>0</th>\n",
              "      <td>entertainment</td>\n",
              "      <td>13945.59</td>\n",
              "    </tr>\n",
              "    <tr>\n",
              "      <th>1</th>\n",
              "      <td>investment</td>\n",
              "      <td>25000.00</td>\n",
              "    </tr>\n",
              "    <tr>\n",
              "      <th>2</th>\n",
              "      <td>shopping</td>\n",
              "      <td>11107.00</td>\n",
              "    </tr>\n",
              "    <tr>\n",
              "      <th>3</th>\n",
              "      <td>grocery</td>\n",
              "      <td>4800.00</td>\n",
              "    </tr>\n",
              "    <tr>\n",
              "      <th>4</th>\n",
              "      <td>transport</td>\n",
              "      <td>6558.00</td>\n",
              "    </tr>\n",
              "    <tr>\n",
              "      <th>5</th>\n",
              "      <td>home</td>\n",
              "      <td>8800.00</td>\n",
              "    </tr>\n",
              "    <tr>\n",
              "      <th>6</th>\n",
              "      <td>others</td>\n",
              "      <td>3200.00</td>\n",
              "    </tr>\n",
              "  </tbody>\n",
              "</table>\n",
              "</div>"
            ],
            "text/plain": [
              "        category     total\n",
              "0  entertainment  13945.59\n",
              "1     investment  25000.00\n",
              "2       shopping  11107.00\n",
              "3        grocery   4800.00\n",
              "4      transport   6558.00\n",
              "5           home   8800.00\n",
              "6         others   3200.00"
            ]
          },
          "metadata": {
            "tags": []
          },
          "execution_count": 71
        }
      ]
    },
    {
      "cell_type": "code",
      "metadata": {
        "id": "JnOVJoE7VBf-",
        "outputId": "0f132550-6c21-4bb5-84b9-19a101f93b63"
      },
      "source": [
        "#lets plot a piechart and bar to analzye where we used \n",
        "#colors = [\"#1f77b4\", \"#ff7f0e\", \"#2ca02c\", \"#d62728\", \"#8c564b\",\"#B7AC9C\"]\n",
        "\n",
        "plt.pie(df['total'], labels=df['category'], autopct='%1.1f%%', shadow=True, startangle=140)\n",
        "plt.title(\" expenditure\")\n",
        "\n",
        "df.plot(x='category',y='total',kind='barh',title='entertainment expenditure')\n",
        "plt.show()"
      ],
      "execution_count": null,
      "outputs": [
        {
          "output_type": "display_data",
          "data": {
            "image/png": "[encoded data removed]",
            "text/plain": [
              "<Figure size 432x288 with 1 Axes>"
            ]
          },
          "metadata": {
            "tags": []
          }
        },
        {
          "output_type": "display_data",
          "data": {
            "image/png": "[encoded data removed]",
            "text/plain": [
              "<Figure size 432x288 with 1 Axes>"
            ]
          },
          "metadata": {
            "tags": [],
            "needs_background": "light"
          }
        }
      ]
    },
    {
      "cell_type": "code",
      "metadata": {
        "id": "z2-FyhGPVBf-",
        "outputId": "925ae0f7-6cc0-49b7-8424-594274623496"
      },
      "source": [
        "fig, ax = plt.subplots(figsize=(6, 3), subplot_kw=dict(aspect=\"equal\"))\n",
        "wedges, texts = ax.pie(df['total'], wedgeprops=dict(width=0.5), startangle=-40)\n",
        "bbox_props = dict(boxstyle=\"square,pad=0.3\", fc=\"w\", ec=\"k\", lw=0.72)\n",
        "kw = dict(arrowprops=dict(arrowstyle=\"-\"),\n",
        "          bbox=bbox_props, zorder=0, va=\"center\")\n",
        "\n",
        "for i, p in enumerate(wedges):\n",
        "    ang = (p.theta2 - p.theta1)/2. + p.theta1\n",
        "    y = np.sin(np.deg2rad(ang))\n",
        "    x = np.cos(np.deg2rad(ang))\n",
        "    horizontalalignment = {-1: \"right\", 1: \"left\"}[int(np.sign(x))]\n",
        "    connectionstyle = \"angle,angleA=0,angleB={}\".format(ang)\n",
        "    kw[\"arrowprops\"].update({\"connectionstyle\": connectionstyle})\n",
        "    ax.annotate(category[i], xy=(x, y), xytext=(1.35*np.sign(x), 1.4*y),\n",
        "                horizontalalignment=horizontalalignment, **kw)\n",
        "plt.show()\n"
      ],
      "execution_count": null,
      "outputs": [
        {
          "output_type": "display_data",
          "data": {
            "image/png": "[encoded data removed]",
            "text/plain": [
              "<Figure size 432x216 with 1 Axes>"
            ]
          },
          "metadata": {
            "tags": []
          }
        }
      ]
    },
    {
      "cell_type": "code",
      "metadata": {
        "id": "vPfzsq-jVBf-",
        "outputId": "ba879d4a-24e0-4bab-d483-3c2f7c385f5b"
      },
      "source": [
        "#wohooo we completed with the piechart\n",
        "#nowlets move to last question\n",
        "#lets make a inferance\n",
        "ordered_df = df.sort_values(by='total')\n",
        "data_sort=ordered_df\n",
        "\n",
        "data_sort.plot(x='category',y='total',kind='barh',title='entertainment expenditure')"
      ],
      "execution_count": null,
      "outputs": [
        {
          "output_type": "execute_result",
          "data": {
            "text/plain": [
              "<matplotlib.axes._subplots.AxesSubplot at 0x1ffc72762b0>"
            ]
          },
          "metadata": {
            "tags": []
          },
          "execution_count": 43
        },
        {
          "output_type": "display_data",
          "data": {
            "image/png": "[encoded data removed]",
            "text/plain": [
              "<Figure size 432x288 with 1 Axes>"
            ]
          },
          "metadata": {
            "tags": [],
            "needs_background": "light"
          }
        }
      ]
    },
    {
      "cell_type": "code",
      "metadata": {
        "id": "ScOc4xalVBgA"
      },
      "source": [
        "#this used to calculate the percentage  of every category\n",
        "percent=[]\n",
        "for i in df['total']:\n",
        "    per=int((i/df['total'].sum())*100)\n",
        "    percent.append(per)\n",
        "\n",
        "percent.sort()"
      ],
      "execution_count": null,
      "outputs": []
    },
    {
      "cell_type": "code",
      "metadata": {
        "id": "eQukg18MVBgA",
        "outputId": "ade32bd5-ceeb-415b-b1b6-9642820594e4"
      },
      "source": [
        "#question4\n",
        "#from the above graph we can conclude that we have invested maximum money\n",
        "#now lets see how much we have used in all category\n",
        "for i in range(len(df)):\n",
        "    print(\"{}%  of your expenditure in {} category\".format(percent[i],data_sort['category'].iloc[i]))"
      ],
      "execution_count": null,
      "outputs": [
        {
          "output_type": "stream",
          "text": [
            "4%  of your expenditure in others category\n",
            "6%  of your expenditure in grocery category\n",
            "8%  of your expenditure in transport category\n",
            "11%  of your expenditure in home category\n",
            "15%  of your expenditure in shopping category\n",
            "18%  of your expenditure in entertainment category\n",
            "34%  of your expenditure in investment category\n"
          ],
          "name": "stdout"
        }
      ]
    },
    {
      "cell_type": "markdown",
      "metadata": {
        "id": "kqPlvqZqVBgA"
      },
      "source": [
        "conclusion:\n",
        "Expense data provides detailed insights into entertainment expenditure such as, how much and how frequently the we went for movies and resturant.It is easier for us to cut down on these expenses.\n",
        "as we can go once a month and we also need to take care of our health. the above Data analytics determined us where to find cost-saving opportunities, validate expenses, and point out the areas to invest more.The investment has maximum as it is necessary to invest for second source of income.The grocery expense detail is not completety true as  grocery vendors in india doesnot provide bill.the data for grocery used is of supermarket that we go sometimes.the transport category is less as i dont have petrol bills,and we have our own vehical.so we usually don't take taxi.to cut the transportation cost we can use city bus.\n",
        "here are some money saving tips:\n",
        "1)evaluate your spending\n",
        "2)set a montly budget\n",
        "3)track your spending,if it goes above the limits try to cut down  or spend less the next month in that category\n",
        "4)plan out your meals for the week so that you can avoid randomly going out and spending unnesscerily\n",
        "5)cut out cable.wifi is enough ,no need for tv.with services like Hulu, Netflix and Amazon Prime, you can now watch your favorite TV shows and movies for a fraction of the cost of cable TV.\n"
      ]
    }
  ]
}